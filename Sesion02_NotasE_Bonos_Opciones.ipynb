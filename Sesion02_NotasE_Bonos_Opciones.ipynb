{
  "nbformat": 4,
  "nbformat_minor": 0,
  "metadata": {
    "colab": {
      "provenance": []
    },
    "kernelspec": {
      "name": "python3",
      "display_name": "Python 3"
    },
    "language_info": {
      "name": "python"
    }
  },
  "cells": [
    {
      "cell_type": "markdown",
      "source": [
        "[![Open In Colab](https://colab.research.google.com/assets/colab-badge.svg)](https://colab.research.google.com/github/MaxMitre/Notas_Estructuradas/blob/main/Sesion02_NotasE_Bonos_Opciones.ipynb)"
      ],
      "metadata": {
        "id": "DcIR7eW1KzSy"
      }
    },
    {
      "cell_type": "markdown",
      "source": [
        "# Bonos, Bonos con cupones y Opciones"
      ],
      "metadata": {
        "id": "L4zUC2xJOFiI"
      }
    },
    {
      "cell_type": "markdown",
      "source": [
        "Versión de interes simple:\n",
        "\n",
        "$$ VP = \\dfrac{VN}{1+r\\times t}$$"
      ],
      "metadata": {
        "id": "xQCadjoKTD3X"
      }
    },
    {
      "cell_type": "markdown",
      "source": [
        "Versión de interés compuesto discreto:\n",
        "\n",
        "$$ VP = \\dfrac{VN}{(1 + r)^t} $$"
      ],
      "metadata": {
        "id": "cSqnJz6NOPdj"
      }
    },
    {
      "cell_type": "code",
      "execution_count": null,
      "metadata": {
        "id": "SI6B2HDBN5oY",
        "colab": {
          "base_uri": "https://localhost:8080/"
        },
        "outputId": "094da72e-ed0b-47ba-b7e5-f5c750ab001a"
      },
      "outputs": [
        {
          "output_type": "stream",
          "name": "stdout",
          "text": [
            "Valor presente del bono (descuento simple): 77.21834800610641\n"
          ]
        }
      ],
      "source": [
        "# Parámetros del bono\n",
        "valor_nominal = 100         # Valor nominal\n",
        "tasa_anual = 0.09           # Tasa de interés (9%)\n",
        "años = 3                    # Tiempo hasta el vencimiento EN AÑOS\n",
        "\n",
        "# Valor presente\n",
        "valor_presente = valor_nominal / (1 + tasa_anual) ** años\n",
        "\n",
        "print(f\"Valor presente del bono (descuento simple): {valor_presente}\")"
      ]
    },
    {
      "cell_type": "markdown",
      "source": [
        "Versión de interes compuesto continuo:\n",
        "\n",
        "$$ VP = \\dfrac{VN}{e^{rt}} = VN \\times e^{-rt} $$"
      ],
      "metadata": {
        "id": "Oy0ZsZIOOlgs"
      }
    },
    {
      "cell_type": "code",
      "source": [
        "np.exp(1)"
      ],
      "metadata": {
        "colab": {
          "base_uri": "https://localhost:8080/"
        },
        "id": "NeoDTzCfw8iK",
        "outputId": "1ef21b46-fe23-4263-baa1-05a093419bd2"
      },
      "execution_count": null,
      "outputs": [
        {
          "output_type": "execute_result",
          "data": {
            "text/plain": [
              "np.float64(2.718281828459045)"
            ]
          },
          "metadata": {},
          "execution_count": 5
        }
      ]
    },
    {
      "cell_type": "code",
      "source": [
        "import numpy as np"
      ],
      "metadata": {
        "id": "JuMsykehxHEj"
      },
      "execution_count": null,
      "outputs": []
    },
    {
      "cell_type": "code",
      "source": [
        "np.exp(1)"
      ],
      "metadata": {
        "colab": {
          "base_uri": "https://localhost:8080/"
        },
        "id": "G1LEyzYjxHw5",
        "outputId": "91c2f6dc-b47b-4608-914f-c410de94ba53"
      },
      "execution_count": null,
      "outputs": [
        {
          "output_type": "execute_result",
          "data": {
            "text/plain": [
              "np.float64(2.718281828459045)"
            ]
          },
          "metadata": {},
          "execution_count": 4
        }
      ]
    },
    {
      "cell_type": "code",
      "source": [
        "# Parámetros del bono\n",
        "valor_nominal = 100        # Valor nominal\n",
        "tasa_continua = 0.09        # Tasa de interés continua (5%)\n",
        "años = 3                    # Tiempo hasta el vencimiento en años\n",
        "\n",
        "# Valor presente usando interés compuesto continuo\n",
        "valor_presente = valor_nominal * np.exp(-tasa_continua * años)\n",
        "\n",
        "print(f\"Valor presente del bono (descuento continuo): {valor_presente}\")"
      ],
      "metadata": {
        "id": "jasikz90Ob5b",
        "colab": {
          "base_uri": "https://localhost:8080/"
        },
        "outputId": "f2a22052-3d23-49d3-ebd5-3c4a6b2de849"
      },
      "execution_count": null,
      "outputs": [
        {
          "output_type": "stream",
          "name": "stdout",
          "text": [
            "Valor presente del bono (descuento continuo): 76.33794943368531\n"
          ]
        }
      ]
    },
    {
      "cell_type": "markdown",
      "source": [
        "# Pregunta 1:\n",
        "\n",
        "¿Porque es mas caro el compuesto continuo a comparación del discreto? ¿Siempre lo será?\n",
        "\n",
        "Respuesta: Si"
      ],
      "metadata": {
        "id": "b7eLalFKPMns"
      }
    },
    {
      "cell_type": "code",
      "source": [
        "# Respuesta visual a la pregunta anterior\n",
        "import matplotlib.pyplot as plt\n",
        "import numpy as np\n",
        "\n",
        "t = np.linspace(0, 1, 100)\n",
        "r = 0.10\n",
        "\n",
        "# Funciones:\n",
        "valor = 1/np.exp(r*t)\n",
        "valor2 = 1/((1+r)**t)\n",
        "\n",
        "# Graficar\n",
        "plt.plot(t, valor, label='Exponencial: $e^{-rt}$')\n",
        "plt.plot(t, valor2, label='Exponente: $1/((1+r)^t)$')\n",
        "plt.title(\"Exponencial vs Exponente\")\n",
        "plt.xlabel(\"X\")\n",
        "plt.ylabel(\"f(X)\")\n",
        "plt.grid(True)\n",
        "plt.legend()\n",
        "plt.show()"
      ],
      "metadata": {
        "id": "-JaukdraPd08",
        "colab": {
          "base_uri": "https://localhost:8080/",
          "height": 472
        },
        "outputId": "4a8c28a3-3b3b-4072-8e3d-b4d0466c57f9"
      },
      "execution_count": null,
      "outputs": [
        {
          "output_type": "display_data",
          "data": {
            "text/plain": [
              "<Figure size 640x480 with 1 Axes>"
            ],
            "image/png": "[encoded data removed]"
          },
          "metadata": {}
        }
      ]
    },
    {
      "cell_type": "markdown",
      "source": [
        "# Bono con cupones\n",
        "\n"
      ],
      "metadata": {
        "id": "o8HJ-8GWRKdZ"
      }
    },
    {
      "cell_type": "markdown",
      "source": [
        "$$ P = \\sum_{t=1}^{n} \\dfrac{C}{(1+r)^t} + \\dfrac{F}{(1+r)^{n}} $$"
      ],
      "metadata": {
        "id": "QzP70CB2RoO4"
      }
    },
    {
      "cell_type": "code",
      "source": [
        "# Parámetros del bono\n",
        "valor_nominal = 1000        # Valor nominal\n",
        "tasa_cupon = 0.06           # Tasa de cupón anual (6%)\n",
        "tasa_descuento = 0.09       # Tasa de descuento del mercado (9%)\n",
        "años = 5                    # Tiempo hasta el vencimiento\n",
        "\n",
        "# Cálculo del valor presente de los cupones\n",
        "valor_cupon = valor_nominal * tasa_cupon\n",
        "valor_presente_cupones = 0\n",
        "i = 1\n",
        "while i <= años:\n",
        "    valor_presente_cupones += valor_cupon / ((1 + tasa_descuento) ** i)\n",
        "    print(f\"año: {i} , valor de la parte del cupón: {valor_cupon / ((1 + tasa_descuento) ** i)}\")\n",
        "    i += 1\n",
        "\n",
        "\n",
        "# Cálculo del valor presente del principal\n",
        "valor_presente_principal = valor_nominal / ((1 + tasa_descuento) ** años)\n",
        "\n",
        "# Valor total del bono\n",
        "valor_total = valor_presente_cupones + valor_presente_principal\n",
        "\n",
        "print(f\"Valor del bono con cupones: {valor_total}\")"
      ],
      "metadata": {
        "id": "nG-sBz8tRMNP",
        "colab": {
          "base_uri": "https://localhost:8080/"
        },
        "outputId": "4b5d70c9-f108-4038-896d-9c67d2f71b6c"
      },
      "execution_count": null,
      "outputs": [
        {
          "output_type": "stream",
          "name": "stdout",
          "text": [
            "año: 1 , valor de la parte del cupón: 55.04587155963302\n",
            "año: 2 , valor de la parte del cupón: 50.5007995959936\n",
            "año: 3 , valor de la parte del cupón: 46.33100880366385\n",
            "año: 4 , valor de la parte del cupón: 42.50551266391178\n",
            "año: 5 , valor de la parte del cupón: 38.995883177900716\n",
            "Valor del bono con cupones: 883.3104620994483\n"
          ]
        }
      ]
    },
    {
      "cell_type": "markdown",
      "source": [
        "Pregunta 2:\n",
        "\n",
        "¿Que inconveniente tiene programar así?\n",
        "\n",
        "Respuesta: No es reusable"
      ],
      "metadata": {
        "id": "t99MMf98Th5V"
      }
    },
    {
      "cell_type": "code",
      "source": [
        "def precio_bono_con_cupones(valor_nominal, tasa_cupon, tasa_descuento, años):\n",
        "    precio = 0.0\n",
        "    cupon = valor_nominal * tasa_cupon\n",
        "\n",
        "    for t in range(1, años + 1):\n",
        "        precio += cupon / (1 + tasa_descuento) ** t\n",
        "\n",
        "    precio += valor_nominal / (1 + tasa_descuento) ** años\n",
        "    return precio"
      ],
      "metadata": {
        "id": "0XL6DkOEYt1V"
      },
      "execution_count": null,
      "outputs": []
    },
    {
      "cell_type": "code",
      "source": [
        "precio = precio_bono_con_cupones(1000,0.06,0.05,5)\n",
        "\n",
        "print(f\"Precio del bono con cupones: {precio}\")"
      ],
      "metadata": {
        "id": "e3EiOq12ZNE5",
        "colab": {
          "base_uri": "https://localhost:8080/"
        },
        "outputId": "fcb1564f-afc1-495c-cc35-484acfbf1317"
      },
      "execution_count": null,
      "outputs": [
        {
          "output_type": "stream",
          "name": "stdout",
          "text": [
            "Precio del bono con cupones: 1043.2947667063079\n"
          ]
        }
      ]
    },
    {
      "cell_type": "markdown",
      "source": [
        "¿Que tal si nos interesa saber que parte del valor viene de los cupones descontados y que parte viene del valor Facial del bono traido a valor presente (es decir, los dos sumandos de la fórmula por separado)?"
      ],
      "metadata": {
        "id": "1JUMIbp4ZVqB"
      }
    },
    {
      "cell_type": "code",
      "source": [
        "def precio_bono_con_cupones_desmenuzado(valor_nominal, tasa_cupon, tasa_descuento, años):\n",
        "    cupon = valor_nominal * tasa_cupon\n",
        "    valor_presente_cupones = 0.0\n",
        "\n",
        "    for t in range(1, años + 1):\n",
        "        valor_presente_cupones += cupon / (1 + tasa_descuento) ** t\n",
        "\n",
        "    valor_presente_principal = valor_nominal / (1 + tasa_descuento) ** años\n",
        "\n",
        "    return valor_presente_cupones, valor_presente_principal\n"
      ],
      "metadata": {
        "id": "zZuxNxXwZO8P"
      },
      "execution_count": null,
      "outputs": []
    },
    {
      "cell_type": "code",
      "source": [
        "cupones, principal = precio_bono_con_cupones_desmenuzado(\n",
        "    valor_nominal=1000,\n",
        "    tasa_cupon=0.06,\n",
        "    tasa_descuento=0.05,\n",
        "    años=5\n",
        ")\n",
        "\n",
        "precio_total = cupones + principal\n",
        "\n",
        "print(f\"Valor presente de cupones: {cupones}\")\n",
        "print(f\"Valor presente del principal: {principal}\")\n",
        "print(f\"Precio total del bono: {precio_total}\")"
      ],
      "metadata": {
        "id": "jVmde0L5ZTRG",
        "colab": {
          "base_uri": "https://localhost:8080/"
        },
        "outputId": "a30f89b1-392d-4920-bf49-3b89a4ca5b91"
      },
      "execution_count": null,
      "outputs": [
        {
          "output_type": "stream",
          "name": "stdout",
          "text": [
            "Valor presente de cupones: 259.7686002378491\n",
            "Valor presente del principal: 783.5261664684588\n",
            "Precio total del bono: 1043.2947667063079\n"
          ]
        }
      ]
    },
    {
      "cell_type": "code",
      "source": [
        "una_sola_variable = precio_bono_con_cupones_desmenuzado(\n",
        "    valor_nominal=1000,\n",
        "    tasa_cupon=0.06,\n",
        "    tasa_descuento=0.05,\n",
        "    años=5\n",
        ")"
      ],
      "metadata": {
        "id": "n_V8mIXl2-8X"
      },
      "execution_count": null,
      "outputs": []
    },
    {
      "cell_type": "code",
      "source": [
        "una_sola_variable"
      ],
      "metadata": {
        "colab": {
          "base_uri": "https://localhost:8080/"
        },
        "id": "Yt87Vovy3CnA",
        "outputId": "6ccd8a13-3c6f-458b-b572-4a2fc493a97b"
      },
      "execution_count": null,
      "outputs": [
        {
          "output_type": "execute_result",
          "data": {
            "text/plain": [
              "(259.7686002378491, 783.5261664684588)"
            ]
          },
          "metadata": {},
          "execution_count": 21
        }
      ]
    },
    {
      "cell_type": "markdown",
      "source": [
        "# Opción Europea de tipo Call"
      ],
      "metadata": {
        "id": "AMMgRvLRUHMl"
      }
    },
    {
      "cell_type": "markdown",
      "source": [
        "En esta sesión aprenderemos a utilizar una fórmula matemática, conocida como Black-Scholes, para dar un precio a nuestras opciones (tipo Call Europeo).\n",
        "\n",
        "Una Call Europeo es un contrato en el cual se pacta la posibilidad de comprar cierta cantidad de activos en el futuro, pero al precio que se establece actualmente."
      ],
      "metadata": {
        "id": "IkkrLRISyKxa"
      }
    },
    {
      "cell_type": "markdown",
      "source": [
        "\n",
        "Ejemplo:\n",
        "\n",
        "Las acciones de Google cuestan \\$100, yo veo que Google dice \"Págame \\$3 y en 30 días te vendo la acción a \\$110\" o \"Págame \\$5 y en 30 días te vendo la acción a \\$100\". Imaginemos que escojo pagarle \\$3, entonces:\n",
        "\n",
        "- Si no decido comprar el contrato no pasa nada.\n",
        "\n",
        "- Si decido comprar el contrato hay \"tres\" posibilidades:\n",
        "  - Si veo que en 30 días la acción cotiza a \\$120, ejerzo el contrato y la compro a \\$110\n",
        "  - Si veo que en 30 días la acción cotiza a \\$90, no ejerzo el contrato y mejor la compro directamente del mercado\n",
        "  - Si en 30 días la acción sigue cotizando en \\$110, ejercer el contrato o comprarla directamente da igual"
      ],
      "metadata": {
        "id": "goxVMfy1CI-A"
      }
    },
    {
      "cell_type": "markdown",
      "source": [
        "El valor de una opción de este tipo se calcula como:\n",
        "\n",
        "![image.png](data:image/png;base64,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)"
      ],
      "metadata": {
        "id": "6_tpa26TUs6e"
      }
    },
    {
      "cell_type": "code",
      "source": [
        "from scipy.stats import norm\n",
        "\n",
        "# Parámetros del activo y la opción\n",
        "S = 100        # Precio actual del activo\n",
        "K = 100        # Precio de ejercicio\n",
        "T = 1          # Tiempo hasta vencimiento (en años)\n",
        "r = 0.05       # Tasa libre de riesgo\n",
        "sigma = 0.2    # Volatilidad del activo\n",
        "\n",
        "# Cálculo de d1 y d2\n",
        "d1 = (np.log(S / K) + (r + 0.5 * sigma ** 2) * T) / (sigma * np.sqrt(T))\n",
        "d2 = d1 - sigma * np.sqrt(T)\n",
        "\n",
        "# CDF de la normal estándar\n",
        "N_d1 = norm.cdf(d1)\n",
        "N_d2 = norm.cdf(d2)\n",
        "\n",
        "# Precio del call europeo\n",
        "call = S * N_d1 - K * np.exp(-r * T) * N_d2\n",
        "\n",
        "print(f\"Precio del call europeo (Black-Scholes): {call}\")\n"
      ],
      "metadata": {
        "id": "lcmS0X6MTobJ",
        "colab": {
          "base_uri": "https://localhost:8080/"
        },
        "outputId": "43e18649-0d66-493b-f76c-c23618ce4f09"
      },
      "execution_count": null,
      "outputs": [
        {
          "output_type": "stream",
          "name": "stdout",
          "text": [
            "Precio del call europeo (Black-Scholes): 10.450583572185565\n"
          ]
        }
      ]
    },
    {
      "cell_type": "markdown",
      "source": [
        "Creemos una función para calcular el precio de Black-Scholes, recibiendo los 5 parámetros:"
      ],
      "metadata": {
        "id": "wxd00IRlU7k6"
      }
    },
    {
      "cell_type": "code",
      "source": [
        "def black_scholes_call(S, K, T, r, sigma):\n",
        "    d1 = (np.log(S / K) + (r + 0.5 * sigma ** 2) * T) / (sigma * np.sqrt(T))\n",
        "    d2 = d1 - sigma * np.sqrt(T)\n",
        "    call_price = S * norm.cdf(d1) - K * np.exp(-r * T) * norm.cdf(d2)\n",
        "    return call_price"
      ],
      "metadata": {
        "id": "qp3O7GUoVK8I"
      },
      "execution_count": null,
      "outputs": []
    },
    {
      "cell_type": "code",
      "source": [
        "primera_opcion = black_scholes_call(S, K, T, r, sigma)\n",
        "primera_opcion"
      ],
      "metadata": {
        "id": "2gmxSllNVLXT",
        "colab": {
          "base_uri": "https://localhost:8080/"
        },
        "outputId": "4304091f-8d8c-411b-e09a-eb44f839c751"
      },
      "execution_count": null,
      "outputs": [
        {
          "output_type": "execute_result",
          "data": {
            "text/plain": [
              "np.float64(10.450583572185565)"
            ]
          },
          "metadata": {},
          "execution_count": 24
        }
      ]
    },
    {
      "cell_type": "markdown",
      "source": [
        "Si quiero calcula el precio cambiando solamente el precio firmado en el contrato (Strike), puedo hacer otra variable y guardar el valor ahí."
      ],
      "metadata": {
        "id": "bx3_-8juVtHL"
      }
    },
    {
      "cell_type": "code",
      "source": [
        "otro_k = 110"
      ],
      "metadata": {
        "id": "TZAgEQx857w9"
      },
      "execution_count": null,
      "outputs": []
    },
    {
      "cell_type": "code",
      "source": [
        "segunda_opcion = black_scholes_call(S, otro_k, T, r, sigma)\n",
        "segunda_opcion"
      ],
      "metadata": {
        "id": "jiEpmEFVVakF",
        "colab": {
          "base_uri": "https://localhost:8080/"
        },
        "outputId": "d220e96f-0d9c-4ca6-9c08-f1786cfba57d"
      },
      "execution_count": null,
      "outputs": [
        {
          "output_type": "execute_result",
          "data": {
            "text/plain": [
              "np.float64(6.040088129724239)"
            ]
          },
          "metadata": {},
          "execution_count": 29
        }
      ]
    },
    {
      "cell_type": "markdown",
      "source": [
        "## Paréntesis cultural:\n",
        "\n",
        "El valor del Put es muy parecido\n",
        "\n",
        "![image.png](data:image/png;base64,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)"
      ],
      "metadata": {
        "id": "X1_6O931UzHA"
      }
    },
    {
      "cell_type": "markdown",
      "source": [
        "# Valores reales"
      ],
      "metadata": {
        "id": "TA6yXw3PWFCi"
      }
    },
    {
      "cell_type": "code",
      "source": [
        "!pip install yfinance"
      ],
      "metadata": {
        "id": "CGZGvR6sWKJQ",
        "colab": {
          "base_uri": "https://localhost:8080/"
        },
        "outputId": "fd1ad52c-3a85-4b02-a05b-26dad7beeaae"
      },
      "execution_count": null,
      "outputs": [
        {
          "output_type": "stream",
          "name": "stdout",
          "text": [
            "Requirement already satisfied: yfinance in /usr/local/lib/python3.11/dist-packages (0.2.56)\n",
            "Requirement already satisfied: pandas>=1.3.0 in /usr/local/lib/python3.11/dist-packages (from yfinance) (2.2.2)\n",
            "Requirement already satisfied: numpy>=1.16.5 in /usr/local/lib/python3.11/dist-packages (from yfinance) (2.0.2)\n",
            "Requirement already satisfied: requests>=2.31 in /usr/local/lib/python3.11/dist-packages (from yfinance) (2.32.3)\n",
            "Requirement already satisfied: multitasking>=0.0.7 in /usr/local/lib/python3.11/dist-packages (from yfinance) (0.0.11)\n",
            "Requirement already satisfied: platformdirs>=2.0.0 in /usr/local/lib/python3.11/dist-packages (from yfinance) (4.3.7)\n",
            "Requirement already satisfied: pytz>=2022.5 in /usr/local/lib/python3.11/dist-packages (from yfinance) (2025.2)\n",
            "Requirement already satisfied: frozendict>=2.3.4 in /usr/local/lib/python3.11/dist-packages (from yfinance) (2.4.6)\n",
            "Requirement already satisfied: peewee>=3.16.2 in /usr/local/lib/python3.11/dist-packages (from yfinance) (3.17.9)\n",
            "Requirement already satisfied: beautifulsoup4>=4.11.1 in /usr/local/lib/python3.11/dist-packages (from yfinance) (4.13.4)\n",
            "Requirement already satisfied: soupsieve>1.2 in /usr/local/lib/python3.11/dist-packages (from beautifulsoup4>=4.11.1->yfinance) (2.7)\n",
            "Requirement already satisfied: typing-extensions>=4.0.0 in /usr/local/lib/python3.11/dist-packages (from beautifulsoup4>=4.11.1->yfinance) (4.13.2)\n",
            "Requirement already satisfied: python-dateutil>=2.8.2 in /usr/local/lib/python3.11/dist-packages (from pandas>=1.3.0->yfinance) (2.9.0.post0)\n",
            "Requirement already satisfied: tzdata>=2022.7 in /usr/local/lib/python3.11/dist-packages (from pandas>=1.3.0->yfinance) (2025.2)\n",
            "Requirement already satisfied: charset-normalizer<4,>=2 in /usr/local/lib/python3.11/dist-packages (from requests>=2.31->yfinance) (3.4.1)\n",
            "Requirement already satisfied: idna<4,>=2.5 in /usr/local/lib/python3.11/dist-packages (from requests>=2.31->yfinance) (3.10)\n",
            "Requirement already satisfied: urllib3<3,>=1.21.1 in /usr/local/lib/python3.11/dist-packages (from requests>=2.31->yfinance) (2.4.0)\n",
            "Requirement already satisfied: certifi>=2017.4.17 in /usr/local/lib/python3.11/dist-packages (from requests>=2.31->yfinance) (2025.1.31)\n",
            "Requirement already satisfied: six>=1.5 in /usr/local/lib/python3.11/dist-packages (from python-dateutil>=2.8.2->pandas>=1.3.0->yfinance) (1.17.0)\n"
          ]
        }
      ]
    },
    {
      "cell_type": "code",
      "source": [
        "import yfinance as yf\n",
        "import pandas as pd\n",
        "\n",
        "data = yf.download(\n",
        "        # Lista de tickers o puede ser un string\n",
        "        tickers = \"GOOGL ^IRX\",\n",
        "\n",
        "        # Parámetro \"period\", tambien se puede utilizar start/end\n",
        "        # periodos válidos: 1d,5d,1mo,3mo,6mo,1y,2y,5y,10y,ytd,max\n",
        "        # (opcional, default es '1mo')\n",
        "        period = \"1y\",\n",
        "\n",
        "        # Peidr datos por intervalo (incluye intradía si es menor a 60 days)\n",
        "        # intervalos válidos: 1m,2m,5m,15m,30m,60m,90m,1h,1d,5d,1wk,1mo,3mo\n",
        "        # (opcional, default es '1d')\n",
        "        interval = \"1d\",\n",
        "\n",
        "        # group by ticker (to access via data['SPY'])\n",
        "        # (opcional, default es 'column')\n",
        "        # group_by = 'ticker',\n",
        "    ).loc[:,'Close']\n",
        "data"
      ],
      "metadata": {
        "id": "Rj1OAsUUWEDV",
        "colab": {
          "base_uri": "https://localhost:8080/",
          "height": 472
        },
        "outputId": "f8bd647f-8683-4977-c1db-501587902cfa"
      },
      "execution_count": null,
      "outputs": [
        {
          "output_type": "stream",
          "name": "stderr",
          "text": [
            "[*********************100%***********************]  2 of 2 completed\n"
          ]
        },
        {
          "output_type": "execute_result",
          "data": {
            "text/plain": [
              "Ticker           GOOGL   ^IRX\n",
              "Date                         \n",
              "2024-04-30         NaN  5.245\n",
              "2024-05-01  163.080307  5.250\n",
              "2024-05-02  165.827179  5.238\n",
              "2024-05-03  166.444229  5.235\n",
              "2024-05-06  167.300171  5.240\n",
              "...                ...    ...\n",
              "2025-04-24  159.279999  4.197\n",
              "2025-04-25  161.960007  4.193\n",
              "2025-04-28  160.610001  4.193\n",
              "2025-04-29  160.160004  4.190\n",
              "2025-04-30  158.800003  4.190\n",
              "\n",
              "[251 rows x 2 columns]"
            ],
            "text/html": [
              "\n",
              "  <div id=\"df-ab0a5b23-a629-4072-82b8-0adefba1a2b9\" class=\"colab-df-container\">\n",
              "    <div>\n",
              "<style scoped>\n",
              "    .dataframe tbody tr th:only-of-type {\n",
              "        vertical-align: middle;\n",
              "    }\n",
              "\n",
              "    .dataframe tbody tr th {\n",
              "        vertical-align: top;\n",
              "    }\n",
              "\n",
              "    .dataframe thead th {\n",
              "        text-align: right;\n",
              "    }\n",
              "</style>\n",
              "<table border=\"1\" class=\"dataframe\">\n",
              "  <thead>\n",
              "    <tr style=\"text-align: right;\">\n",
              "      <th>Ticker</th>\n",
              "      <th>GOOGL</th>\n",
              "      <th>^IRX</th>\n",
              "    </tr>\n",
              "    <tr>\n",
              "      <th>Date</th>\n",
              "      <th></th>\n",
              "      <th></th>\n",
              "    </tr>\n",
              "  </thead>\n",
              "  <tbody>\n",
              "    <tr>\n",
              "      <th>2024-04-30</th>\n",
              "      <td>NaN</td>\n",
              "      <td>5.245</td>\n",
              "    </tr>\n",
              "    <tr>\n",
              "      <th>2024-05-01</th>\n",
              "      <td>163.080307</td>\n",
              "      <td>5.250</td>\n",
              "    </tr>\n",
              "    <tr>\n",
              "      <th>2024-05-02</th>\n",
              "      <td>165.827179</td>\n",
              "      <td>5.238</td>\n",
              "    </tr>\n",
              "    <tr>\n",
              "      <th>2024-05-03</th>\n",
              "      <td>166.444229</td>\n",
              "      <td>5.235</td>\n",
              "    </tr>\n",
              "    <tr>\n",
              "      <th>2024-05-06</th>\n",
              "      <td>167.300171</td>\n",
              "      <td>5.240</td>\n",
              "    </tr>\n",
              "    <tr>\n",
              "      <th>...</th>\n",
              "      <td>...</td>\n",
              "      <td>...</td>\n",
              "    </tr>\n",
              "    <tr>\n",
              "      <th>2025-04-24</th>\n",
              "      <td>159.279999</td>\n",
              "      <td>4.197</td>\n",
              "    </tr>\n",
              "    <tr>\n",
              "      <th>2025-04-25</th>\n",
              "      <td>161.960007</td>\n",
              "      <td>4.193</td>\n",
              "    </tr>\n",
              "    <tr>\n",
              "      <th>2025-04-28</th>\n",
              "      <td>160.610001</td>\n",
              "      <td>4.193</td>\n",
              "    </tr>\n",
              "    <tr>\n",
              "      <th>2025-04-29</th>\n",
              "      <td>160.160004</td>\n",
              "      <td>4.190</td>\n",
              "    </tr>\n",
              "    <tr>\n",
              "      <th>2025-04-30</th>\n",
              "      <td>158.800003</td>\n",
              "      <td>4.190</td>\n",
              "    </tr>\n",
              "  </tbody>\n",
              "</table>\n",
              "<p>251 rows × 2 columns</p>\n",
              "</div>\n",
              "    <div class=\"colab-df-buttons\">\n",
              "\n",
              "  <div class=\"colab-df-container\">\n",
              "    <button class=\"colab-df-convert\" onclick=\"convertToInteractive('df-ab0a5b23-a629-4072-82b8-0adefba1a2b9')\"\n",
              "            title=\"Convert this dataframe to an interactive table.\"\n",
              "            style=\"display:none;\">\n",
              "\n",
              "  <svg xmlns=\"http://www.w3.org/2000/svg\" height=\"24px\" viewBox=\"0 -960 960 960\">\n",
              "    <path d=\"M120-120v-720h720v720H120Zm60-500h600v-160H180v160Zm220 220h160v-160H400v160Zm0 220h160v-160H400v160ZM180-400h160v-160H180v160Zm440 0h160v-160H620v160ZM180-180h160v-160H180v160Zm440 0h160v-160H620v160Z\"/>\n",
              "  </svg>\n",
              "    </button>\n",
              "\n",
              "  <style>\n",
              "    .colab-df-container {\n",
              "      display:flex;\n",
              "      gap: 12px;\n",
              "    }\n",
              "\n",
              "    .colab-df-convert {\n",
              "      background-color: #E8F0FE;\n",
              "      border: none;\n",
              "      border-radius: 50%;\n",
              "      cursor: pointer;\n",
              "      display: none;\n",
              "      fill: #1967D2;\n",
              "      height: 32px;\n",
              "      padding: 0 0 0 0;\n",
              "      width: 32px;\n",
              "    }\n",
              "\n",
              "    .colab-df-convert:hover {\n",
              "      background-color: #E2EBFA;\n",
              "      box-shadow: 0px 1px 2px rgba(60, 64, 67, 0.3), 0px 1px 3px 1px rgba(60, 64, 67, 0.15);\n",
              "      fill: #174EA6;\n",
              "    }\n",
              "\n",
              "    .colab-df-buttons div {\n",
              "      margin-bottom: 4px;\n",
              "    }\n",
              "\n",
              "    [theme=dark] .colab-df-convert {\n",
              "      background-color: #3B4455;\n",
              "      fill: #D2E3FC;\n",
              "    }\n",
              "\n",
              "    [theme=dark] .colab-df-convert:hover {\n",
              "      background-color: #434B5C;\n",
              "      box-shadow: 0px 1px 3px 1px rgba(0, 0, 0, 0.15);\n",
              "      filter: drop-shadow(0px 1px 2px rgba(0, 0, 0, 0.3));\n",
              "      fill: #FFFFFF;\n",
              "    }\n",
              "  </style>\n",
              "\n",
              "    <script>\n",
              "      const buttonEl =\n",
              "        document.querySelector('#df-ab0a5b23-a629-4072-82b8-0adefba1a2b9 button.colab-df-convert');\n",
              "      buttonEl.style.display =\n",
              "        google.colab.kernel.accessAllowed ? 'block' : 'none';\n",
              "\n",
              "      async function convertToInteractive(key) {\n",
              "        const element = document.querySelector('#df-ab0a5b23-a629-4072-82b8-0adefba1a2b9');\n",
              "        const dataTable =\n",
              "          await google.colab.kernel.invokeFunction('convertToInteractive',\n",
              "                                                    [key], {});\n",
              "        if (!dataTable) return;\n",
              "\n",
              "        const docLinkHtml = 'Like what you see? Visit the ' +\n",
              "          '<a target=\"_blank\" href=https://colab.research.google.com/notebooks/data_table.ipynb>data table notebook</a>'\n",
              "          + ' to learn more about interactive tables.';\n",
              "        element.innerHTML = '';\n",
              "        dataTable['output_type'] = 'display_data';\n",
              "        await google.colab.output.renderOutput(dataTable, element);\n",
              "        const docLink = document.createElement('div');\n",
              "        docLink.innerHTML = docLinkHtml;\n",
              "        element.appendChild(docLink);\n",
              "      }\n",
              "    </script>\n",
              "  </div>\n",
              "\n",
              "\n",
              "    <div id=\"df-b0172ef2-e02c-466b-a498-1209221c5545\">\n",
              "      <button class=\"colab-df-quickchart\" onclick=\"quickchart('df-b0172ef2-e02c-466b-a498-1209221c5545')\"\n",
              "                title=\"Suggest charts\"\n",
              "                style=\"display:none;\">\n",
              "\n",
              "<svg xmlns=\"http://www.w3.org/2000/svg\" height=\"24px\"viewBox=\"0 0 24 24\"\n",
              "     width=\"24px\">\n",
              "    <g>\n",
              "        <path d=\"M19 3H5c-1.1 0-2 .9-2 2v14c0 1.1.9 2 2 2h14c1.1 0 2-.9 2-2V5c0-1.1-.9-2-2-2zM9 17H7v-7h2v7zm4 0h-2V7h2v10zm4 0h-2v-4h2v4z\"/>\n",
              "    </g>\n",
              "</svg>\n",
              "      </button>\n",
              "\n",
              "<style>\n",
              "  .colab-df-quickchart {\n",
              "      --bg-color: #E8F0FE;\n",
              "      --fill-color: #1967D2;\n",
              "      --hover-bg-color: #E2EBFA;\n",
              "      --hover-fill-color: #174EA6;\n",
              "      --disabled-fill-color: #AAA;\n",
              "      --disabled-bg-color: #DDD;\n",
              "  }\n",
              "\n",
              "  [theme=dark] .colab-df-quickchart {\n",
              "      --bg-color: #3B4455;\n",
              "      --fill-color: #D2E3FC;\n",
              "      --hover-bg-color: #434B5C;\n",
              "      --hover-fill-color: #FFFFFF;\n",
              "      --disabled-bg-color: #3B4455;\n",
              "      --disabled-fill-color: #666;\n",
              "  }\n",
              "\n",
              "  .colab-df-quickchart {\n",
              "    background-color: var(--bg-color);\n",
              "    border: none;\n",
              "    border-radius: 50%;\n",
              "    cursor: pointer;\n",
              "    display: none;\n",
              "    fill: var(--fill-color);\n",
              "    height: 32px;\n",
              "    padding: 0;\n",
              "    width: 32px;\n",
              "  }\n",
              "\n",
              "  .colab-df-quickchart:hover {\n",
              "    background-color: var(--hover-bg-color);\n",
              "    box-shadow: 0 1px 2px rgba(60, 64, 67, 0.3), 0 1px 3px 1px rgba(60, 64, 67, 0.15);\n",
              "    fill: var(--button-hover-fill-color);\n",
              "  }\n",
              "\n",
              "  .colab-df-quickchart-complete:disabled,\n",
              "  .colab-df-quickchart-complete:disabled:hover {\n",
              "    background-color: var(--disabled-bg-color);\n",
              "    fill: var(--disabled-fill-color);\n",
              "    box-shadow: none;\n",
              "  }\n",
              "\n",
              "  .colab-df-spinner {\n",
              "    border: 2px solid var(--fill-color);\n",
              "    border-color: transparent;\n",
              "    border-bottom-color: var(--fill-color);\n",
              "    animation:\n",
              "      spin 1s steps(1) infinite;\n",
              "  }\n",
              "\n",
              "  @keyframes spin {\n",
              "    0% {\n",
              "      border-color: transparent;\n",
              "      border-bottom-color: var(--fill-color);\n",
              "      border-left-color: var(--fill-color);\n",
              "    }\n",
              "    20% {\n",
              "      border-color: transparent;\n",
              "      border-left-color: var(--fill-color);\n",
              "      border-top-color: var(--fill-color);\n",
              "    }\n",
              "    30% {\n",
              "      border-color: transparent;\n",
              "      border-left-color: var(--fill-color);\n",
              "      border-top-color: var(--fill-color);\n",
              "      border-right-color: var(--fill-color);\n",
              "    }\n",
              "    40% {\n",
              "      border-color: transparent;\n",
              "      border-right-color: var(--fill-color);\n",
              "      border-top-color: var(--fill-color);\n",
              "    }\n",
              "    60% {\n",
              "      border-color: transparent;\n",
              "      border-right-color: var(--fill-color);\n",
              "    }\n",
              "    80% {\n",
              "      border-color: transparent;\n",
              "      border-right-color: var(--fill-color);\n",
              "      border-bottom-color: var(--fill-color);\n",
              "    }\n",
              "    90% {\n",
              "      border-color: transparent;\n",
              "      border-bottom-color: var(--fill-color);\n",
              "    }\n",
              "  }\n",
              "</style>\n",
              "\n",
              "      <script>\n",
              "        async function quickchart(key) {\n",
              "          const quickchartButtonEl =\n",
              "            document.querySelector('#' + key + ' button');\n",
              "          quickchartButtonEl.disabled = true;  // To prevent multiple clicks.\n",
              "          quickchartButtonEl.classList.add('colab-df-spinner');\n",
              "          try {\n",
              "            const charts = await google.colab.kernel.invokeFunction(\n",
              "                'suggestCharts', [key], {});\n",
              "          } catch (error) {\n",
              "            console.error('Error during call to suggestCharts:', error);\n",
              "          }\n",
              "          quickchartButtonEl.classList.remove('colab-df-spinner');\n",
              "          quickchartButtonEl.classList.add('colab-df-quickchart-complete');\n",
              "        }\n",
              "        (() => {\n",
              "          let quickchartButtonEl =\n",
              "            document.querySelector('#df-b0172ef2-e02c-466b-a498-1209221c5545 button');\n",
              "          quickchartButtonEl.style.display =\n",
              "            google.colab.kernel.accessAllowed ? 'block' : 'none';\n",
              "        })();\n",
              "      </script>\n",
              "    </div>\n",
              "\n",
              "  <div id=\"id_cdf66fb2-7c43-42e7-ad06-6611d9e46422\">\n",
              "    <style>\n",
              "      .colab-df-generate {\n",
              "        background-color: #E8F0FE;\n",
              "        border: none;\n",
              "        border-radius: 50%;\n",
              "        cursor: pointer;\n",
              "        display: none;\n",
              "        fill: #1967D2;\n",
              "        height: 32px;\n",
              "        padding: 0 0 0 0;\n",
              "        width: 32px;\n",
              "      }\n",
              "\n",
              "      .colab-df-generate:hover {\n",
              "        background-color: #E2EBFA;\n",
              "        box-shadow: 0px 1px 2px rgba(60, 64, 67, 0.3), 0px 1px 3px 1px rgba(60, 64, 67, 0.15);\n",
              "        fill: #174EA6;\n",
              "      }\n",
              "\n",
              "      [theme=dark] .colab-df-generate {\n",
              "        background-color: #3B4455;\n",
              "        fill: #D2E3FC;\n",
              "      }\n",
              "\n",
              "      [theme=dark] .colab-df-generate:hover {\n",
              "        background-color: #434B5C;\n",
              "        box-shadow: 0px 1px 3px 1px rgba(0, 0, 0, 0.15);\n",
              "        filter: drop-shadow(0px 1px 2px rgba(0, 0, 0, 0.3));\n",
              "        fill: #FFFFFF;\n",
              "      }\n",
              "    </style>\n",
              "    <button class=\"colab-df-generate\" onclick=\"generateWithVariable('data')\"\n",
              "            title=\"Generate code using this dataframe.\"\n",
              "            style=\"display:none;\">\n",
              "\n",
              "  <svg xmlns=\"http://www.w3.org/2000/svg\" height=\"24px\"viewBox=\"0 0 24 24\"\n",
              "       width=\"24px\">\n",
              "    <path d=\"M7,19H8.4L18.45,9,17,7.55,7,17.6ZM5,21V16.75L18.45,3.32a2,2,0,0,1,2.83,0l1.4,1.43a1.91,1.91,0,0,1,.58,1.4,1.91,1.91,0,0,1-.58,1.4L9.25,21ZM18.45,9,17,7.55Zm-12,3A5.31,5.31,0,0,0,4.9,8.1,5.31,5.31,0,0,0,1,6.5,5.31,5.31,0,0,0,4.9,4.9,5.31,5.31,0,0,0,6.5,1,5.31,5.31,0,0,0,8.1,4.9,5.31,5.31,0,0,0,12,6.5,5.46,5.46,0,0,0,6.5,12Z\"/>\n",
              "  </svg>\n",
              "    </button>\n",
              "    <script>\n",
              "      (() => {\n",
              "      const buttonEl =\n",
              "        document.querySelector('#id_cdf66fb2-7c43-42e7-ad06-6611d9e46422 button.colab-df-generate');\n",
              "      buttonEl.style.display =\n",
              "        google.colab.kernel.accessAllowed ? 'block' : 'none';\n",
              "\n",
              "      buttonEl.onclick = () => {\n",
              "        google.colab.notebook.generateWithVariable('data');\n",
              "      }\n",
              "      })();\n",
              "    </script>\n",
              "  </div>\n",
              "\n",
              "    </div>\n",
              "  </div>\n"
            ],
            "application/vnd.google.colaboratory.intrinsic+json": {
              "type": "dataframe",
              "variable_name": "data",
              "summary": "{\n  \"name\": \"data\",\n  \"rows\": 251,\n  \"fields\": [\n    {\n      \"column\": \"Date\",\n      \"properties\": {\n        \"dtype\": \"date\",\n        \"min\": \"2024-04-30 00:00:00\",\n        \"max\": \"2025-04-30 00:00:00\",\n        \"num_unique_values\": 251,\n        \"samples\": [\n          \"2024-12-10 00:00:00\",\n          \"2024-05-08 00:00:00\",\n          \"2024-12-23 00:00:00\"\n        ],\n        \"semantic_type\": \"\",\n        \"description\": \"\"\n      }\n    },\n    {\n      \"column\": \"GOOGL\",\n      \"properties\": {\n        \"dtype\": \"number\",\n        \"std\": 12.973441365997433,\n        \"min\": 144.6999969482422,\n        \"max\": 206.14259338378906,\n        \"num_unique_values\": 249,\n        \"samples\": [\n          172.09434509277344,\n          169.15130615234375,\n          161.76808166503906\n        ],\n        \"semantic_type\": \"\",\n        \"description\": \"\"\n      }\n    },\n    {\n      \"column\": \"^IRX\",\n      \"properties\": {\n        \"dtype\": \"number\",\n        \"std\": 0.43134538469583955,\n        \"min\": 4.150000095367432,\n        \"max\": 5.25,\n        \"num_unique_values\": 127,\n        \"samples\": [\n          5.114999771118164,\n          4.177999973297119,\n          4.429999828338623\n        ],\n        \"semantic_type\": \"\",\n        \"description\": \"\"\n      }\n    }\n  ]\n}"
            }
          },
          "metadata": {},
          "execution_count": 36
        }
      ]
    },
    {
      "cell_type": "code",
      "source": [
        "data.dropna(inplace=True)"
      ],
      "metadata": {
        "id": "vALOw95NWWvj"
      },
      "execution_count": null,
      "outputs": []
    },
    {
      "cell_type": "code",
      "source": [
        "data"
      ],
      "metadata": {
        "colab": {
          "base_uri": "https://localhost:8080/",
          "height": 455
        },
        "id": "rY8GYwtr7Hu9",
        "outputId": "ea94bc64-a48e-40e8-e3bf-f869848bfdcc"
      },
      "execution_count": null,
      "outputs": [
        {
          "output_type": "execute_result",
          "data": {
            "text/plain": [
              "Ticker           GOOGL   ^IRX\n",
              "Date                         \n",
              "2024-05-01  163.080307  5.250\n",
              "2024-05-02  165.827179  5.238\n",
              "2024-05-03  166.444229  5.235\n",
              "2024-05-06  167.300171  5.240\n",
              "2024-05-07  170.435150  5.243\n",
              "...                ...    ...\n",
              "2025-04-24  159.279999  4.197\n",
              "2025-04-25  161.960007  4.193\n",
              "2025-04-28  160.610001  4.193\n",
              "2025-04-29  160.160004  4.190\n",
              "2025-04-30  158.800003  4.190\n",
              "\n",
              "[250 rows x 2 columns]"
            ],
            "text/html": [
              "\n",
              "  <div id=\"df-83759f6e-4dfc-49cd-98fb-77799b1749e8\" class=\"colab-df-container\">\n",
              "    <div>\n",
              "<style scoped>\n",
              "    .dataframe tbody tr th:only-of-type {\n",
              "        vertical-align: middle;\n",
              "    }\n",
              "\n",
              "    .dataframe tbody tr th {\n",
              "        vertical-align: top;\n",
              "    }\n",
              "\n",
              "    .dataframe thead th {\n",
              "        text-align: right;\n",
              "    }\n",
              "</style>\n",
              "<table border=\"1\" class=\"dataframe\">\n",
              "  <thead>\n",
              "    <tr style=\"text-align: right;\">\n",
              "      <th>Ticker</th>\n",
              "      <th>GOOGL</th>\n",
              "      <th>^IRX</th>\n",
              "    </tr>\n",
              "    <tr>\n",
              "      <th>Date</th>\n",
              "      <th></th>\n",
              "      <th></th>\n",
              "    </tr>\n",
              "  </thead>\n",
              "  <tbody>\n",
              "    <tr>\n",
              "      <th>2024-05-01</th>\n",
              "      <td>163.080307</td>\n",
              "      <td>5.250</td>\n",
              "    </tr>\n",
              "    <tr>\n",
              "      <th>2024-05-02</th>\n",
              "      <td>165.827179</td>\n",
              "      <td>5.238</td>\n",
              "    </tr>\n",
              "    <tr>\n",
              "      <th>2024-05-03</th>\n",
              "      <td>166.444229</td>\n",
              "      <td>5.235</td>\n",
              "    </tr>\n",
              "    <tr>\n",
              "      <th>2024-05-06</th>\n",
              "      <td>167.300171</td>\n",
              "      <td>5.240</td>\n",
              "    </tr>\n",
              "    <tr>\n",
              "      <th>2024-05-07</th>\n",
              "      <td>170.435150</td>\n",
              "      <td>5.243</td>\n",
              "    </tr>\n",
              "    <tr>\n",
              "      <th>...</th>\n",
              "      <td>...</td>\n",
              "      <td>...</td>\n",
              "    </tr>\n",
              "    <tr>\n",
              "      <th>2025-04-24</th>\n",
              "      <td>159.279999</td>\n",
              "      <td>4.197</td>\n",
              "    </tr>\n",
              "    <tr>\n",
              "      <th>2025-04-25</th>\n",
              "      <td>161.960007</td>\n",
              "      <td>4.193</td>\n",
              "    </tr>\n",
              "    <tr>\n",
              "      <th>2025-04-28</th>\n",
              "      <td>160.610001</td>\n",
              "      <td>4.193</td>\n",
              "    </tr>\n",
              "    <tr>\n",
              "      <th>2025-04-29</th>\n",
              "      <td>160.160004</td>\n",
              "      <td>4.190</td>\n",
              "    </tr>\n",
              "    <tr>\n",
              "      <th>2025-04-30</th>\n",
              "      <td>158.800003</td>\n",
              "      <td>4.190</td>\n",
              "    </tr>\n",
              "  </tbody>\n",
              "</table>\n",
              "<p>250 rows × 2 columns</p>\n",
              "</div>\n",
              "    <div class=\"colab-df-buttons\">\n",
              "\n",
              "  <div class=\"colab-df-container\">\n",
              "    <button class=\"colab-df-convert\" onclick=\"convertToInteractive('df-83759f6e-4dfc-49cd-98fb-77799b1749e8')\"\n",
              "            title=\"Convert this dataframe to an interactive table.\"\n",
              "            style=\"display:none;\">\n",
              "\n",
              "  <svg xmlns=\"http://www.w3.org/2000/svg\" height=\"24px\" viewBox=\"0 -960 960 960\">\n",
              "    <path d=\"M120-120v-720h720v720H120Zm60-500h600v-160H180v160Zm220 220h160v-160H400v160Zm0 220h160v-160H400v160ZM180-400h160v-160H180v160Zm440 0h160v-160H620v160ZM180-180h160v-160H180v160Zm440 0h160v-160H620v160Z\"/>\n",
              "  </svg>\n",
              "    </button>\n",
              "\n",
              "  <style>\n",
              "    .colab-df-container {\n",
              "      display:flex;\n",
              "      gap: 12px;\n",
              "    }\n",
              "\n",
              "    .colab-df-convert {\n",
              "      background-color: #E8F0FE;\n",
              "      border: none;\n",
              "      border-radius: 50%;\n",
              "      cursor: pointer;\n",
              "      display: none;\n",
              "      fill: #1967D2;\n",
              "      height: 32px;\n",
              "      padding: 0 0 0 0;\n",
              "      width: 32px;\n",
              "    }\n",
              "\n",
              "    .colab-df-convert:hover {\n",
              "      background-color: #E2EBFA;\n",
              "      box-shadow: 0px 1px 2px rgba(60, 64, 67, 0.3), 0px 1px 3px 1px rgba(60, 64, 67, 0.15);\n",
              "      fill: #174EA6;\n",
              "    }\n",
              "\n",
              "    .colab-df-buttons div {\n",
              "      margin-bottom: 4px;\n",
              "    }\n",
              "\n",
              "    [theme=dark] .colab-df-convert {\n",
              "      background-color: #3B4455;\n",
              "      fill: #D2E3FC;\n",
              "    }\n",
              "\n",
              "    [theme=dark] .colab-df-convert:hover {\n",
              "      background-color: #434B5C;\n",
              "      box-shadow: 0px 1px 3px 1px rgba(0, 0, 0, 0.15);\n",
              "      filter: drop-shadow(0px 1px 2px rgba(0, 0, 0, 0.3));\n",
              "      fill: #FFFFFF;\n",
              "    }\n",
              "  </style>\n",
              "\n",
              "    <script>\n",
              "      const buttonEl =\n",
              "        document.querySelector('#df-83759f6e-4dfc-49cd-98fb-77799b1749e8 button.colab-df-convert');\n",
              "      buttonEl.style.display =\n",
              "        google.colab.kernel.accessAllowed ? 'block' : 'none';\n",
              "\n",
              "      async function convertToInteractive(key) {\n",
              "        const element = document.querySelector('#df-83759f6e-4dfc-49cd-98fb-77799b1749e8');\n",
              "        const dataTable =\n",
              "          await google.colab.kernel.invokeFunction('convertToInteractive',\n",
              "                                                    [key], {});\n",
              "        if (!dataTable) return;\n",
              "\n",
              "        const docLinkHtml = 'Like what you see? Visit the ' +\n",
              "          '<a target=\"_blank\" href=https://colab.research.google.com/notebooks/data_table.ipynb>data table notebook</a>'\n",
              "          + ' to learn more about interactive tables.';\n",
              "        element.innerHTML = '';\n",
              "        dataTable['output_type'] = 'display_data';\n",
              "        await google.colab.output.renderOutput(dataTable, element);\n",
              "        const docLink = document.createElement('div');\n",
              "        docLink.innerHTML = docLinkHtml;\n",
              "        element.appendChild(docLink);\n",
              "      }\n",
              "    </script>\n",
              "  </div>\n",
              "\n",
              "\n",
              "    <div id=\"df-a9996812-a14c-4e47-965c-583586d6ebf9\">\n",
              "      <button class=\"colab-df-quickchart\" onclick=\"quickchart('df-a9996812-a14c-4e47-965c-583586d6ebf9')\"\n",
              "                title=\"Suggest charts\"\n",
              "                style=\"display:none;\">\n",
              "\n",
              "<svg xmlns=\"http://www.w3.org/2000/svg\" height=\"24px\"viewBox=\"0 0 24 24\"\n",
              "     width=\"24px\">\n",
              "    <g>\n",
              "        <path d=\"M19 3H5c-1.1 0-2 .9-2 2v14c0 1.1.9 2 2 2h14c1.1 0 2-.9 2-2V5c0-1.1-.9-2-2-2zM9 17H7v-7h2v7zm4 0h-2V7h2v10zm4 0h-2v-4h2v4z\"/>\n",
              "    </g>\n",
              "</svg>\n",
              "      </button>\n",
              "\n",
              "<style>\n",
              "  .colab-df-quickchart {\n",
              "      --bg-color: #E8F0FE;\n",
              "      --fill-color: #1967D2;\n",
              "      --hover-bg-color: #E2EBFA;\n",
              "      --hover-fill-color: #174EA6;\n",
              "      --disabled-fill-color: #AAA;\n",
              "      --disabled-bg-color: #DDD;\n",
              "  }\n",
              "\n",
              "  [theme=dark] .colab-df-quickchart {\n",
              "      --bg-color: #3B4455;\n",
              "      --fill-color: #D2E3FC;\n",
              "      --hover-bg-color: #434B5C;\n",
              "      --hover-fill-color: #FFFFFF;\n",
              "      --disabled-bg-color: #3B4455;\n",
              "      --disabled-fill-color: #666;\n",
              "  }\n",
              "\n",
              "  .colab-df-quickchart {\n",
              "    background-color: var(--bg-color);\n",
              "    border: none;\n",
              "    border-radius: 50%;\n",
              "    cursor: pointer;\n",
              "    display: none;\n",
              "    fill: var(--fill-color);\n",
              "    height: 32px;\n",
              "    padding: 0;\n",
              "    width: 32px;\n",
              "  }\n",
              "\n",
              "  .colab-df-quickchart:hover {\n",
              "    background-color: var(--hover-bg-color);\n",
              "    box-shadow: 0 1px 2px rgba(60, 64, 67, 0.3), 0 1px 3px 1px rgba(60, 64, 67, 0.15);\n",
              "    fill: var(--button-hover-fill-color);\n",
              "  }\n",
              "\n",
              "  .colab-df-quickchart-complete:disabled,\n",
              "  .colab-df-quickchart-complete:disabled:hover {\n",
              "    background-color: var(--disabled-bg-color);\n",
              "    fill: var(--disabled-fill-color);\n",
              "    box-shadow: none;\n",
              "  }\n",
              "\n",
              "  .colab-df-spinner {\n",
              "    border: 2px solid var(--fill-color);\n",
              "    border-color: transparent;\n",
              "    border-bottom-color: var(--fill-color);\n",
              "    animation:\n",
              "      spin 1s steps(1) infinite;\n",
              "  }\n",
              "\n",
              "  @keyframes spin {\n",
              "    0% {\n",
              "      border-color: transparent;\n",
              "      border-bottom-color: var(--fill-color);\n",
              "      border-left-color: var(--fill-color);\n",
              "    }\n",
              "    20% {\n",
              "      border-color: transparent;\n",
              "      border-left-color: var(--fill-color);\n",
              "      border-top-color: var(--fill-color);\n",
              "    }\n",
              "    30% {\n",
              "      border-color: transparent;\n",
              "      border-left-color: var(--fill-color);\n",
              "      border-top-color: var(--fill-color);\n",
              "      border-right-color: var(--fill-color);\n",
              "    }\n",
              "    40% {\n",
              "      border-color: transparent;\n",
              "      border-right-color: var(--fill-color);\n",
              "      border-top-color: var(--fill-color);\n",
              "    }\n",
              "    60% {\n",
              "      border-color: transparent;\n",
              "      border-right-color: var(--fill-color);\n",
              "    }\n",
              "    80% {\n",
              "      border-color: transparent;\n",
              "      border-right-color: var(--fill-color);\n",
              "      border-bottom-color: var(--fill-color);\n",
              "    }\n",
              "    90% {\n",
              "      border-color: transparent;\n",
              "      border-bottom-color: var(--fill-color);\n",
              "    }\n",
              "  }\n",
              "</style>\n",
              "\n",
              "      <script>\n",
              "        async function quickchart(key) {\n",
              "          const quickchartButtonEl =\n",
              "            document.querySelector('#' + key + ' button');\n",
              "          quickchartButtonEl.disabled = true;  // To prevent multiple clicks.\n",
              "          quickchartButtonEl.classList.add('colab-df-spinner');\n",
              "          try {\n",
              "            const charts = await google.colab.kernel.invokeFunction(\n",
              "                'suggestCharts', [key], {});\n",
              "          } catch (error) {\n",
              "            console.error('Error during call to suggestCharts:', error);\n",
              "          }\n",
              "          quickchartButtonEl.classList.remove('colab-df-spinner');\n",
              "          quickchartButtonEl.classList.add('colab-df-quickchart-complete');\n",
              "        }\n",
              "        (() => {\n",
              "          let quickchartButtonEl =\n",
              "            document.querySelector('#df-a9996812-a14c-4e47-965c-583586d6ebf9 button');\n",
              "          quickchartButtonEl.style.display =\n",
              "            google.colab.kernel.accessAllowed ? 'block' : 'none';\n",
              "        })();\n",
              "      </script>\n",
              "    </div>\n",
              "\n",
              "  <div id=\"id_53b1e264-a4dd-4518-be97-84a025102e74\">\n",
              "    <style>\n",
              "      .colab-df-generate {\n",
              "        background-color: #E8F0FE;\n",
              "        border: none;\n",
              "        border-radius: 50%;\n",
              "        cursor: pointer;\n",
              "        display: none;\n",
              "        fill: #1967D2;\n",
              "        height: 32px;\n",
              "        padding: 0 0 0 0;\n",
              "        width: 32px;\n",
              "      }\n",
              "\n",
              "      .colab-df-generate:hover {\n",
              "        background-color: #E2EBFA;\n",
              "        box-shadow: 0px 1px 2px rgba(60, 64, 67, 0.3), 0px 1px 3px 1px rgba(60, 64, 67, 0.15);\n",
              "        fill: #174EA6;\n",
              "      }\n",
              "\n",
              "      [theme=dark] .colab-df-generate {\n",
              "        background-color: #3B4455;\n",
              "        fill: #D2E3FC;\n",
              "      }\n",
              "\n",
              "      [theme=dark] .colab-df-generate:hover {\n",
              "        background-color: #434B5C;\n",
              "        box-shadow: 0px 1px 3px 1px rgba(0, 0, 0, 0.15);\n",
              "        filter: drop-shadow(0px 1px 2px rgba(0, 0, 0, 0.3));\n",
              "        fill: #FFFFFF;\n",
              "      }\n",
              "    </style>\n",
              "    <button class=\"colab-df-generate\" onclick=\"generateWithVariable('data')\"\n",
              "            title=\"Generate code using this dataframe.\"\n",
              "            style=\"display:none;\">\n",
              "\n",
              "  <svg xmlns=\"http://www.w3.org/2000/svg\" height=\"24px\"viewBox=\"0 0 24 24\"\n",
              "       width=\"24px\">\n",
              "    <path d=\"M7,19H8.4L18.45,9,17,7.55,7,17.6ZM5,21V16.75L18.45,3.32a2,2,0,0,1,2.83,0l1.4,1.43a1.91,1.91,0,0,1,.58,1.4,1.91,1.91,0,0,1-.58,1.4L9.25,21ZM18.45,9,17,7.55Zm-12,3A5.31,5.31,0,0,0,4.9,8.1,5.31,5.31,0,0,0,1,6.5,5.31,5.31,0,0,0,4.9,4.9,5.31,5.31,0,0,0,6.5,1,5.31,5.31,0,0,0,8.1,4.9,5.31,5.31,0,0,0,12,6.5,5.46,5.46,0,0,0,6.5,12Z\"/>\n",
              "  </svg>\n",
              "    </button>\n",
              "    <script>\n",
              "      (() => {\n",
              "      const buttonEl =\n",
              "        document.querySelector('#id_53b1e264-a4dd-4518-be97-84a025102e74 button.colab-df-generate');\n",
              "      buttonEl.style.display =\n",
              "        google.colab.kernel.accessAllowed ? 'block' : 'none';\n",
              "\n",
              "      buttonEl.onclick = () => {\n",
              "        google.colab.notebook.generateWithVariable('data');\n",
              "      }\n",
              "      })();\n",
              "    </script>\n",
              "  </div>\n",
              "\n",
              "    </div>\n",
              "  </div>\n"
            ],
            "application/vnd.google.colaboratory.intrinsic+json": {
              "type": "dataframe",
              "variable_name": "data",
              "summary": "{\n  \"name\": \"data\",\n  \"rows\": 250,\n  \"fields\": [\n    {\n      \"column\": \"Date\",\n      \"properties\": {\n        \"dtype\": \"date\",\n        \"min\": \"2024-05-01 00:00:00\",\n        \"max\": \"2025-04-30 00:00:00\",\n        \"num_unique_values\": 250,\n        \"samples\": [\n          \"2024-11-21 00:00:00\",\n          \"2024-05-09 00:00:00\",\n          \"2024-09-19 00:00:00\"\n        ],\n        \"semantic_type\": \"\",\n        \"description\": \"\"\n      }\n    },\n    {\n      \"column\": \"GOOGL\",\n      \"properties\": {\n        \"dtype\": \"number\",\n        \"std\": 12.973441365997433,\n        \"min\": 144.6999969482422,\n        \"max\": 206.14259338378906,\n        \"num_unique_values\": 249,\n        \"samples\": [\n          172.09434509277344,\n          169.15130615234375,\n          161.76808166503906\n        ],\n        \"semantic_type\": \"\",\n        \"description\": \"\"\n      }\n    },\n    {\n      \"column\": \"^IRX\",\n      \"properties\": {\n        \"dtype\": \"number\",\n        \"std\": 0.430397584019064,\n        \"min\": 4.150000095367432,\n        \"max\": 5.25,\n        \"num_unique_values\": 127,\n        \"samples\": [\n          5.114999771118164,\n          4.177999973297119,\n          4.429999828338623\n        ],\n        \"semantic_type\": \"\",\n        \"description\": \"\"\n      }\n    }\n  ]\n}"
            }
          },
          "metadata": {},
          "execution_count": 38
        }
      ]
    },
    {
      "cell_type": "code",
      "source": [
        "# Renombrando columna\n",
        "data.rename(columns={'^IRX':'IRX'}, inplace=True)"
      ],
      "metadata": {
        "id": "AVVnTH2YWXaA"
      },
      "execution_count": null,
      "outputs": []
    },
    {
      "cell_type": "code",
      "source": [
        "# Tasa de interes vista como porcentaje\n",
        "data['IRX'] = data['IRX']/100"
      ],
      "metadata": {
        "id": "N8Gg3DsyWdFV"
      },
      "execution_count": null,
      "outputs": []
    },
    {
      "cell_type": "code",
      "source": [
        "data['ret'] = (data['GOOGL'] / data['GOOGL'].shift(1)) - 1"
      ],
      "metadata": {
        "id": "ofF8b4BZpvY7"
      },
      "execution_count": null,
      "outputs": []
    },
    {
      "cell_type": "code",
      "source": [
        "# Retornos logaritmicos\n",
        "data['Vol. GOOGL'] = np.nan\n",
        "data['log_ret'] = np.log(data['GOOGL']) - np.log(data['GOOGL'].shift(1))"
      ],
      "metadata": {
        "id": "SAaLVS4AWeUT"
      },
      "execution_count": null,
      "outputs": []
    },
    {
      "cell_type": "code",
      "source": [
        "data"
      ],
      "metadata": {
        "colab": {
          "base_uri": "https://localhost:8080/",
          "height": 455
        },
        "id": "yKltvB-D7azy",
        "outputId": "b993bef9-31f3-4fc4-83cc-93d02b2c9562"
      },
      "execution_count": null,
      "outputs": [
        {
          "output_type": "execute_result",
          "data": {
            "text/plain": [
              "Ticker           GOOGL      IRX       ret  Vol. GOOGL   log_ret\n",
              "Date                                                           \n",
              "2024-05-01  163.080307  0.05250       NaN         NaN       NaN\n",
              "2024-05-02  165.827179  0.05238  0.016844         NaN  0.016703\n",
              "2024-05-03  166.444229  0.05235  0.003721         NaN  0.003714\n",
              "2024-05-06  167.300171  0.05240  0.005143         NaN  0.005129\n",
              "2024-05-07  170.435150  0.05243  0.018739         NaN  0.018565\n",
              "...                ...      ...       ...         ...       ...\n",
              "2025-04-24  159.279999  0.04197  0.025298         NaN  0.024983\n",
              "2025-04-25  161.960007  0.04193  0.016826         NaN  0.016686\n",
              "2025-04-28  160.610001  0.04193 -0.008335         NaN -0.008370\n",
              "2025-04-29  160.160004  0.04190 -0.002802         NaN -0.002806\n",
              "2025-04-30  158.800003  0.04190 -0.008492         NaN -0.008528\n",
              "\n",
              "[250 rows x 5 columns]"
            ],
            "text/html": [
              "\n",
              "  <div id=\"df-75d58407-a25f-4cda-accc-d3a1dbe25b60\" class=\"colab-df-container\">\n",
              "    <div>\n",
              "<style scoped>\n",
              "    .dataframe tbody tr th:only-of-type {\n",
              "        vertical-align: middle;\n",
              "    }\n",
              "\n",
              "    .dataframe tbody tr th {\n",
              "        vertical-align: top;\n",
              "    }\n",
              "\n",
              "    .dataframe thead th {\n",
              "        text-align: right;\n",
              "    }\n",
              "</style>\n",
              "<table border=\"1\" class=\"dataframe\">\n",
              "  <thead>\n",
              "    <tr style=\"text-align: right;\">\n",
              "      <th>Ticker</th>\n",
              "      <th>GOOGL</th>\n",
              "      <th>IRX</th>\n",
              "      <th>ret</th>\n",
              "      <th>Vol. GOOGL</th>\n",
              "      <th>log_ret</th>\n",
              "    </tr>\n",
              "    <tr>\n",
              "      <th>Date</th>\n",
              "      <th></th>\n",
              "      <th></th>\n",
              "      <th></th>\n",
              "      <th></th>\n",
              "      <th></th>\n",
              "    </tr>\n",
              "  </thead>\n",
              "  <tbody>\n",
              "    <tr>\n",
              "      <th>2024-05-01</th>\n",
              "      <td>163.080307</td>\n",
              "      <td>0.05250</td>\n",
              "      <td>NaN</td>\n",
              "      <td>NaN</td>\n",
              "      <td>NaN</td>\n",
              "    </tr>\n",
              "    <tr>\n",
              "      <th>2024-05-02</th>\n",
              "      <td>165.827179</td>\n",
              "      <td>0.05238</td>\n",
              "      <td>0.016844</td>\n",
              "      <td>NaN</td>\n",
              "      <td>0.016703</td>\n",
              "    </tr>\n",
              "    <tr>\n",
              "      <th>2024-05-03</th>\n",
              "      <td>166.444229</td>\n",
              "      <td>0.05235</td>\n",
              "      <td>0.003721</td>\n",
              "      <td>NaN</td>\n",
              "      <td>0.003714</td>\n",
              "    </tr>\n",
              "    <tr>\n",
              "      <th>2024-05-06</th>\n",
              "      <td>167.300171</td>\n",
              "      <td>0.05240</td>\n",
              "      <td>0.005143</td>\n",
              "      <td>NaN</td>\n",
              "      <td>0.005129</td>\n",
              "    </tr>\n",
              "    <tr>\n",
              "      <th>2024-05-07</th>\n",
              "      <td>170.435150</td>\n",
              "      <td>0.05243</td>\n",
              "      <td>0.018739</td>\n",
              "      <td>NaN</td>\n",
              "      <td>0.018565</td>\n",
              "    </tr>\n",
              "    <tr>\n",
              "      <th>...</th>\n",
              "      <td>...</td>\n",
              "      <td>...</td>\n",
              "      <td>...</td>\n",
              "      <td>...</td>\n",
              "      <td>...</td>\n",
              "    </tr>\n",
              "    <tr>\n",
              "      <th>2025-04-24</th>\n",
              "      <td>159.279999</td>\n",
              "      <td>0.04197</td>\n",
              "      <td>0.025298</td>\n",
              "      <td>NaN</td>\n",
              "      <td>0.024983</td>\n",
              "    </tr>\n",
              "    <tr>\n",
              "      <th>2025-04-25</th>\n",
              "      <td>161.960007</td>\n",
              "      <td>0.04193</td>\n",
              "      <td>0.016826</td>\n",
              "      <td>NaN</td>\n",
              "      <td>0.016686</td>\n",
              "    </tr>\n",
              "    <tr>\n",
              "      <th>2025-04-28</th>\n",
              "      <td>160.610001</td>\n",
              "      <td>0.04193</td>\n",
              "      <td>-0.008335</td>\n",
              "      <td>NaN</td>\n",
              "      <td>-0.008370</td>\n",
              "    </tr>\n",
              "    <tr>\n",
              "      <th>2025-04-29</th>\n",
              "      <td>160.160004</td>\n",
              "      <td>0.04190</td>\n",
              "      <td>-0.002802</td>\n",
              "      <td>NaN</td>\n",
              "      <td>-0.002806</td>\n",
              "    </tr>\n",
              "    <tr>\n",
              "      <th>2025-04-30</th>\n",
              "      <td>158.800003</td>\n",
              "      <td>0.04190</td>\n",
              "      <td>-0.008492</td>\n",
              "      <td>NaN</td>\n",
              "      <td>-0.008528</td>\n",
              "    </tr>\n",
              "  </tbody>\n",
              "</table>\n",
              "<p>250 rows × 5 columns</p>\n",
              "</div>\n",
              "    <div class=\"colab-df-buttons\">\n",
              "\n",
              "  <div class=\"colab-df-container\">\n",
              "    <button class=\"colab-df-convert\" onclick=\"convertToInteractive('df-75d58407-a25f-4cda-accc-d3a1dbe25b60')\"\n",
              "            title=\"Convert this dataframe to an interactive table.\"\n",
              "            style=\"display:none;\">\n",
              "\n",
              "  <svg xmlns=\"http://www.w3.org/2000/svg\" height=\"24px\" viewBox=\"0 -960 960 960\">\n",
              "    <path d=\"M120-120v-720h720v720H120Zm60-500h600v-160H180v160Zm220 220h160v-160H400v160Zm0 220h160v-160H400v160ZM180-400h160v-160H180v160Zm440 0h160v-160H620v160ZM180-180h160v-160H180v160Zm440 0h160v-160H620v160Z\"/>\n",
              "  </svg>\n",
              "    </button>\n",
              "\n",
              "  <style>\n",
              "    .colab-df-container {\n",
              "      display:flex;\n",
              "      gap: 12px;\n",
              "    }\n",
              "\n",
              "    .colab-df-convert {\n",
              "      background-color: #E8F0FE;\n",
              "      border: none;\n",
              "      border-radius: 50%;\n",
              "      cursor: pointer;\n",
              "      display: none;\n",
              "      fill: #1967D2;\n",
              "      height: 32px;\n",
              "      padding: 0 0 0 0;\n",
              "      width: 32px;\n",
              "    }\n",
              "\n",
              "    .colab-df-convert:hover {\n",
              "      background-color: #E2EBFA;\n",
              "      box-shadow: 0px 1px 2px rgba(60, 64, 67, 0.3), 0px 1px 3px 1px rgba(60, 64, 67, 0.15);\n",
              "      fill: #174EA6;\n",
              "    }\n",
              "\n",
              "    .colab-df-buttons div {\n",
              "      margin-bottom: 4px;\n",
              "    }\n",
              "\n",
              "    [theme=dark] .colab-df-convert {\n",
              "      background-color: #3B4455;\n",
              "      fill: #D2E3FC;\n",
              "    }\n",
              "\n",
              "    [theme=dark] .colab-df-convert:hover {\n",
              "      background-color: #434B5C;\n",
              "      box-shadow: 0px 1px 3px 1px rgba(0, 0, 0, 0.15);\n",
              "      filter: drop-shadow(0px 1px 2px rgba(0, 0, 0, 0.3));\n",
              "      fill: #FFFFFF;\n",
              "    }\n",
              "  </style>\n",
              "\n",
              "    <script>\n",
              "      const buttonEl =\n",
              "        document.querySelector('#df-75d58407-a25f-4cda-accc-d3a1dbe25b60 button.colab-df-convert');\n",
              "      buttonEl.style.display =\n",
              "        google.colab.kernel.accessAllowed ? 'block' : 'none';\n",
              "\n",
              "      async function convertToInteractive(key) {\n",
              "        const element = document.querySelector('#df-75d58407-a25f-4cda-accc-d3a1dbe25b60');\n",
              "        const dataTable =\n",
              "          await google.colab.kernel.invokeFunction('convertToInteractive',\n",
              "                                                    [key], {});\n",
              "        if (!dataTable) return;\n",
              "\n",
              "        const docLinkHtml = 'Like what you see? Visit the ' +\n",
              "          '<a target=\"_blank\" href=https://colab.research.google.com/notebooks/data_table.ipynb>data table notebook</a>'\n",
              "          + ' to learn more about interactive tables.';\n",
              "        element.innerHTML = '';\n",
              "        dataTable['output_type'] = 'display_data';\n",
              "        await google.colab.output.renderOutput(dataTable, element);\n",
              "        const docLink = document.createElement('div');\n",
              "        docLink.innerHTML = docLinkHtml;\n",
              "        element.appendChild(docLink);\n",
              "      }\n",
              "    </script>\n",
              "  </div>\n",
              "\n",
              "\n",
              "    <div id=\"df-fe4f6575-0e14-447d-b938-75c0ac68ab7e\">\n",
              "      <button class=\"colab-df-quickchart\" onclick=\"quickchart('df-fe4f6575-0e14-447d-b938-75c0ac68ab7e')\"\n",
              "                title=\"Suggest charts\"\n",
              "                style=\"display:none;\">\n",
              "\n",
              "<svg xmlns=\"http://www.w3.org/2000/svg\" height=\"24px\"viewBox=\"0 0 24 24\"\n",
              "     width=\"24px\">\n",
              "    <g>\n",
              "        <path d=\"M19 3H5c-1.1 0-2 .9-2 2v14c0 1.1.9 2 2 2h14c1.1 0 2-.9 2-2V5c0-1.1-.9-2-2-2zM9 17H7v-7h2v7zm4 0h-2V7h2v10zm4 0h-2v-4h2v4z\"/>\n",
              "    </g>\n",
              "</svg>\n",
              "      </button>\n",
              "\n",
              "<style>\n",
              "  .colab-df-quickchart {\n",
              "      --bg-color: #E8F0FE;\n",
              "      --fill-color: #1967D2;\n",
              "      --hover-bg-color: #E2EBFA;\n",
              "      --hover-fill-color: #174EA6;\n",
              "      --disabled-fill-color: #AAA;\n",
              "      --disabled-bg-color: #DDD;\n",
              "  }\n",
              "\n",
              "  [theme=dark] .colab-df-quickchart {\n",
              "      --bg-color: #3B4455;\n",
              "      --fill-color: #D2E3FC;\n",
              "      --hover-bg-color: #434B5C;\n",
              "      --hover-fill-color: #FFFFFF;\n",
              "      --disabled-bg-color: #3B4455;\n",
              "      --disabled-fill-color: #666;\n",
              "  }\n",
              "\n",
              "  .colab-df-quickchart {\n",
              "    background-color: var(--bg-color);\n",
              "    border: none;\n",
              "    border-radius: 50%;\n",
              "    cursor: pointer;\n",
              "    display: none;\n",
              "    fill: var(--fill-color);\n",
              "    height: 32px;\n",
              "    padding: 0;\n",
              "    width: 32px;\n",
              "  }\n",
              "\n",
              "  .colab-df-quickchart:hover {\n",
              "    background-color: var(--hover-bg-color);\n",
              "    box-shadow: 0 1px 2px rgba(60, 64, 67, 0.3), 0 1px 3px 1px rgba(60, 64, 67, 0.15);\n",
              "    fill: var(--button-hover-fill-color);\n",
              "  }\n",
              "\n",
              "  .colab-df-quickchart-complete:disabled,\n",
              "  .colab-df-quickchart-complete:disabled:hover {\n",
              "    background-color: var(--disabled-bg-color);\n",
              "    fill: var(--disabled-fill-color);\n",
              "    box-shadow: none;\n",
              "  }\n",
              "\n",
              "  .colab-df-spinner {\n",
              "    border: 2px solid var(--fill-color);\n",
              "    border-color: transparent;\n",
              "    border-bottom-color: var(--fill-color);\n",
              "    animation:\n",
              "      spin 1s steps(1) infinite;\n",
              "  }\n",
              "\n",
              "  @keyframes spin {\n",
              "    0% {\n",
              "      border-color: transparent;\n",
              "      border-bottom-color: var(--fill-color);\n",
              "      border-left-color: var(--fill-color);\n",
              "    }\n",
              "    20% {\n",
              "      border-color: transparent;\n",
              "      border-left-color: var(--fill-color);\n",
              "      border-top-color: var(--fill-color);\n",
              "    }\n",
              "    30% {\n",
              "      border-color: transparent;\n",
              "      border-left-color: var(--fill-color);\n",
              "      border-top-color: var(--fill-color);\n",
              "      border-right-color: var(--fill-color);\n",
              "    }\n",
              "    40% {\n",
              "      border-color: transparent;\n",
              "      border-right-color: var(--fill-color);\n",
              "      border-top-color: var(--fill-color);\n",
              "    }\n",
              "    60% {\n",
              "      border-color: transparent;\n",
              "      border-right-color: var(--fill-color);\n",
              "    }\n",
              "    80% {\n",
              "      border-color: transparent;\n",
              "      border-right-color: var(--fill-color);\n",
              "      border-bottom-color: var(--fill-color);\n",
              "    }\n",
              "    90% {\n",
              "      border-color: transparent;\n",
              "      border-bottom-color: var(--fill-color);\n",
              "    }\n",
              "  }\n",
              "</style>\n",
              "\n",
              "      <script>\n",
              "        async function quickchart(key) {\n",
              "          const quickchartButtonEl =\n",
              "            document.querySelector('#' + key + ' button');\n",
              "          quickchartButtonEl.disabled = true;  // To prevent multiple clicks.\n",
              "          quickchartButtonEl.classList.add('colab-df-spinner');\n",
              "          try {\n",
              "            const charts = await google.colab.kernel.invokeFunction(\n",
              "                'suggestCharts', [key], {});\n",
              "          } catch (error) {\n",
              "            console.error('Error during call to suggestCharts:', error);\n",
              "          }\n",
              "          quickchartButtonEl.classList.remove('colab-df-spinner');\n",
              "          quickchartButtonEl.classList.add('colab-df-quickchart-complete');\n",
              "        }\n",
              "        (() => {\n",
              "          let quickchartButtonEl =\n",
              "            document.querySelector('#df-fe4f6575-0e14-447d-b938-75c0ac68ab7e button');\n",
              "          quickchartButtonEl.style.display =\n",
              "            google.colab.kernel.accessAllowed ? 'block' : 'none';\n",
              "        })();\n",
              "      </script>\n",
              "    </div>\n",
              "\n",
              "  <div id=\"id_ec8772c0-43d1-43e4-94a6-56567e6d51e7\">\n",
              "    <style>\n",
              "      .colab-df-generate {\n",
              "        background-color: #E8F0FE;\n",
              "        border: none;\n",
              "        border-radius: 50%;\n",
              "        cursor: pointer;\n",
              "        display: none;\n",
              "        fill: #1967D2;\n",
              "        height: 32px;\n",
              "        padding: 0 0 0 0;\n",
              "        width: 32px;\n",
              "      }\n",
              "\n",
              "      .colab-df-generate:hover {\n",
              "        background-color: #E2EBFA;\n",
              "        box-shadow: 0px 1px 2px rgba(60, 64, 67, 0.3), 0px 1px 3px 1px rgba(60, 64, 67, 0.15);\n",
              "        fill: #174EA6;\n",
              "      }\n",
              "\n",
              "      [theme=dark] .colab-df-generate {\n",
              "        background-color: #3B4455;\n",
              "        fill: #D2E3FC;\n",
              "      }\n",
              "\n",
              "      [theme=dark] .colab-df-generate:hover {\n",
              "        background-color: #434B5C;\n",
              "        box-shadow: 0px 1px 3px 1px rgba(0, 0, 0, 0.15);\n",
              "        filter: drop-shadow(0px 1px 2px rgba(0, 0, 0, 0.3));\n",
              "        fill: #FFFFFF;\n",
              "      }\n",
              "    </style>\n",
              "    <button class=\"colab-df-generate\" onclick=\"generateWithVariable('data')\"\n",
              "            title=\"Generate code using this dataframe.\"\n",
              "            style=\"display:none;\">\n",
              "\n",
              "  <svg xmlns=\"http://www.w3.org/2000/svg\" height=\"24px\"viewBox=\"0 0 24 24\"\n",
              "       width=\"24px\">\n",
              "    <path d=\"M7,19H8.4L18.45,9,17,7.55,7,17.6ZM5,21V16.75L18.45,3.32a2,2,0,0,1,2.83,0l1.4,1.43a1.91,1.91,0,0,1,.58,1.4,1.91,1.91,0,0,1-.58,1.4L9.25,21ZM18.45,9,17,7.55Zm-12,3A5.31,5.31,0,0,0,4.9,8.1,5.31,5.31,0,0,0,1,6.5,5.31,5.31,0,0,0,4.9,4.9,5.31,5.31,0,0,0,6.5,1,5.31,5.31,0,0,0,8.1,4.9,5.31,5.31,0,0,0,12,6.5,5.46,5.46,0,0,0,6.5,12Z\"/>\n",
              "  </svg>\n",
              "    </button>\n",
              "    <script>\n",
              "      (() => {\n",
              "      const buttonEl =\n",
              "        document.querySelector('#id_ec8772c0-43d1-43e4-94a6-56567e6d51e7 button.colab-df-generate');\n",
              "      buttonEl.style.display =\n",
              "        google.colab.kernel.accessAllowed ? 'block' : 'none';\n",
              "\n",
              "      buttonEl.onclick = () => {\n",
              "        google.colab.notebook.generateWithVariable('data');\n",
              "      }\n",
              "      })();\n",
              "    </script>\n",
              "  </div>\n",
              "\n",
              "    </div>\n",
              "  </div>\n"
            ],
            "application/vnd.google.colaboratory.intrinsic+json": {
              "type": "dataframe",
              "variable_name": "data",
              "summary": "{\n  \"name\": \"data\",\n  \"rows\": 250,\n  \"fields\": [\n    {\n      \"column\": \"Date\",\n      \"properties\": {\n        \"dtype\": \"date\",\n        \"min\": \"2024-05-01 00:00:00\",\n        \"max\": \"2025-04-30 00:00:00\",\n        \"num_unique_values\": 250,\n        \"samples\": [\n          \"2024-11-21 00:00:00\",\n          \"2024-05-09 00:00:00\",\n          \"2024-09-19 00:00:00\"\n        ],\n        \"semantic_type\": \"\",\n        \"description\": \"\"\n      }\n    },\n    {\n      \"column\": \"GOOGL\",\n      \"properties\": {\n        \"dtype\": \"number\",\n        \"std\": 12.973441365997433,\n        \"min\": 144.6999969482422,\n        \"max\": 206.14259338378906,\n        \"num_unique_values\": 249,\n        \"samples\": [\n          172.09434509277344,\n          169.15130615234375,\n          161.76808166503906\n        ],\n        \"semantic_type\": \"\",\n        \"description\": \"\"\n      }\n    },\n    {\n      \"column\": \"IRX\",\n      \"properties\": {\n        \"dtype\": \"number\",\n        \"std\": 0.004303975840190643,\n        \"min\": 0.041500000953674315,\n        \"max\": 0.0525,\n        \"num_unique_values\": 127,\n        \"samples\": [\n          0.051149997711181644,\n          0.04177999973297119,\n          0.04429999828338623\n        ],\n        \"semantic_type\": \"\",\n        \"description\": \"\"\n      }\n    },\n    {\n      \"column\": \"ret\",\n      \"properties\": {\n        \"dtype\": \"number\",\n        \"std\": 0.018888314317445788,\n        \"min\": -0.07292371789552754,\n        \"max\": 0.09682107851485466,\n        \"num_unique_values\": 249,\n        \"samples\": [\n          -0.017598752519072502,\n          -0.007707726309142626,\n          0.008942867575212343\n        ],\n        \"semantic_type\": \"\",\n        \"description\": \"\"\n      }\n    },\n    {\n      \"column\": \"Vol. GOOGL\",\n      \"properties\": {\n        \"dtype\": \"number\",\n        \"std\": null,\n        \"min\": null,\n        \"max\": null,\n        \"num_unique_values\": 0,\n        \"samples\": [],\n        \"semantic_type\": \"\",\n        \"description\": \"\"\n      }\n    },\n    {\n      \"column\": \"log_ret\",\n      \"properties\": {\n        \"dtype\": \"number\",\n        \"std\": 0.01889398410605793,\n        \"min\": -0.07571942758451566,\n        \"max\": 0.09241606727500429,\n        \"num_unique_values\": 249,\n        \"samples\": [],\n        \"semantic_type\": \"\",\n        \"description\": \"\"\n      }\n    }\n  ]\n}"
            }
          },
          "metadata": {},
          "execution_count": 47
        }
      ]
    },
    {
      "cell_type": "markdown",
      "source": [
        "# Histograma de los Retornos vs Histograma de los Retornos Logarítmicos"
      ],
      "metadata": {
        "id": "5x0FoXSop-AL"
      }
    },
    {
      "cell_type": "code",
      "source": [
        "data.ret.hist()"
      ],
      "metadata": {
        "colab": {
          "base_uri": "https://localhost:8080/",
          "height": 447
        },
        "id": "nPmO4Nd0p1ag",
        "outputId": "41e12e17-2126-4a86-8b1b-9cd517e27f3e"
      },
      "execution_count": null,
      "outputs": [
        {
          "output_type": "execute_result",
          "data": {
            "text/plain": [
              "<Axes: >"
            ]
          },
          "metadata": {},
          "execution_count": 48
        },
        {
          "output_type": "display_data",
          "data": {
            "text/plain": [
              "<Figure size 640x480 with 1 Axes>"
            ],
            "image/png": "[encoded data removed]"
          },
          "metadata": {}
        }
      ]
    },
    {
      "cell_type": "code",
      "source": [
        "data.log_ret.hist()"
      ],
      "metadata": {
        "colab": {
          "base_uri": "https://localhost:8080/",
          "height": 447
        },
        "id": "VNjK9O0jpqOk",
        "outputId": "23cf90f7-636d-445d-84ff-3a1e35c9b3cf"
      },
      "execution_count": null,
      "outputs": [
        {
          "output_type": "execute_result",
          "data": {
            "text/plain": [
              "<Axes: >"
            ]
          },
          "metadata": {},
          "execution_count": 49
        },
        {
          "output_type": "display_data",
          "data": {
            "text/plain": [
              "<Figure size 640x480 with 1 Axes>"
            ],
            "image/png": "[encoded data removed]"
          },
          "metadata": {}
        }
      ]
    },
    {
      "cell_type": "code",
      "source": [
        "# Calculando volatilidad y anualizarla\n",
        "fechas_vol = data.index\n",
        "for cada_fecha in fechas_vol[125:]:\n",
        "    data_for_vol = fechas_vol[(cada_fecha - fechas_vol < pd.Timedelta(days=180)) & (cada_fecha - fechas_vol >= pd.Timedelta(days=0))] # 120 dias para 6 meses\n",
        "    data.loc[cada_fecha, 'Vol. GOOGL'] = np.std(data['log_ret'][data_for_vol].values, ddof=1)*np.sqrt(252)"
      ],
      "metadata": {
        "id": "f3EaQXXvWiIy"
      },
      "execution_count": null,
      "outputs": []
    },
    {
      "cell_type": "code",
      "source": [
        "data.dropna(inplace=True)"
      ],
      "metadata": {
        "id": "OxuThhYpXQw5"
      },
      "execution_count": null,
      "outputs": []
    },
    {
      "cell_type": "code",
      "source": [
        "data['calls_Black_Scholes'] = data.apply(lambda x: black_scholes_call(x['GOOGL'], x['GOOGL'] + 0, 360/360, x['IRX'], x['Vol. GOOGL']), axis=1)"
      ],
      "metadata": {
        "id": "kKulA8hGWuXs"
      },
      "execution_count": null,
      "outputs": []
    },
    {
      "cell_type": "code",
      "source": [
        "data"
      ],
      "metadata": {
        "id": "zATd9lA9W4Ml",
        "colab": {
          "base_uri": "https://localhost:8080/",
          "height": 455
        },
        "outputId": "6cbba4f6-6db3-4deb-89d7-a747aad96d7d"
      },
      "execution_count": null,
      "outputs": [
        {
          "output_type": "execute_result",
          "data": {
            "text/plain": [
              "Ticker           GOOGL      IRX       ret  Vol. GOOGL   log_ret  \\\n",
              "Date                                                              \n",
              "2024-10-29  169.290771  0.04480  0.017754    0.224241  0.017598   \n",
              "2024-10-30  174.059814  0.04463  0.028171    0.227620  0.027781   \n",
              "2024-10-31  170.717514  0.04432 -0.019202    0.228428 -0.019389   \n",
              "2024-11-01  170.897079  0.04400  0.001052    0.227516  0.001051   \n",
              "2024-11-04  168.851791  0.04418 -0.011968    0.227830 -0.012040   \n",
              "...                ...      ...       ...         ...       ...   \n",
              "2025-04-24  159.279999  0.04197  0.025298    0.364105  0.024983   \n",
              "2025-04-25  161.960007  0.04193  0.016826    0.363422  0.016686   \n",
              "2025-04-28  160.610001  0.04193 -0.008335    0.363161 -0.008370   \n",
              "2025-04-29  160.160004  0.04190 -0.002802    0.362153 -0.002806   \n",
              "2025-04-30  158.800003  0.04190 -0.008492    0.362329 -0.008528   \n",
              "\n",
              "Ticker      calls_Black_Scholes  \n",
              "Date                             \n",
              "2024-10-29            18.783044  \n",
              "2024-10-30            19.520657  \n",
              "2024-10-31            19.171342  \n",
              "2024-11-01            19.104354  \n",
              "2024-11-04            18.911349  \n",
              "...                         ...  \n",
              "2025-04-24            25.957689  \n",
              "2025-04-25            26.349301  \n",
              "2025-04-28            26.113657  \n",
              "2025-04-29            25.976657  \n",
              "2025-04-30            25.766751  \n",
              "\n",
              "[125 rows x 6 columns]"
            ],
            "text/html": [
              "\n",
              "  <div id=\"df-1765b97d-ea0b-47ed-abc2-b363c1df6b2d\" class=\"colab-df-container\">\n",
              "    <div>\n",
              "<style scoped>\n",
              "    .dataframe tbody tr th:only-of-type {\n",
              "        vertical-align: middle;\n",
              "    }\n",
              "\n",
              "    .dataframe tbody tr th {\n",
              "        vertical-align: top;\n",
              "    }\n",
              "\n",
              "    .dataframe thead th {\n",
              "        text-align: right;\n",
              "    }\n",
              "</style>\n",
              "<table border=\"1\" class=\"dataframe\">\n",
              "  <thead>\n",
              "    <tr style=\"text-align: right;\">\n",
              "      <th>Ticker</th>\n",
              "      <th>GOOGL</th>\n",
              "      <th>IRX</th>\n",
              "      <th>ret</th>\n",
              "      <th>Vol. GOOGL</th>\n",
              "      <th>log_ret</th>\n",
              "      <th>calls_Black_Scholes</th>\n",
              "    </tr>\n",
              "    <tr>\n",
              "      <th>Date</th>\n",
              "      <th></th>\n",
              "      <th></th>\n",
              "      <th></th>\n",
              "      <th></th>\n",
              "      <th></th>\n",
              "      <th></th>\n",
              "    </tr>\n",
              "  </thead>\n",
              "  <tbody>\n",
              "    <tr>\n",
              "      <th>2024-10-29</th>\n",
              "      <td>169.290771</td>\n",
              "      <td>0.04480</td>\n",
              "      <td>0.017754</td>\n",
              "      <td>0.224241</td>\n",
              "      <td>0.017598</td>\n",
              "      <td>18.783044</td>\n",
              "    </tr>\n",
              "    <tr>\n",
              "      <th>2024-10-30</th>\n",
              "      <td>174.059814</td>\n",
              "      <td>0.04463</td>\n",
              "      <td>0.028171</td>\n",
              "      <td>0.227620</td>\n",
              "      <td>0.027781</td>\n",
              "      <td>19.520657</td>\n",
              "    </tr>\n",
              "    <tr>\n",
              "      <th>2024-10-31</th>\n",
              "      <td>170.717514</td>\n",
              "      <td>0.04432</td>\n",
              "      <td>-0.019202</td>\n",
              "      <td>0.228428</td>\n",
              "      <td>-0.019389</td>\n",
              "      <td>19.171342</td>\n",
              "    </tr>\n",
              "    <tr>\n",
              "      <th>2024-11-01</th>\n",
              "      <td>170.897079</td>\n",
              "      <td>0.04400</td>\n",
              "      <td>0.001052</td>\n",
              "      <td>0.227516</td>\n",
              "      <td>0.001051</td>\n",
              "      <td>19.104354</td>\n",
              "    </tr>\n",
              "    <tr>\n",
              "      <th>2024-11-04</th>\n",
              "      <td>168.851791</td>\n",
              "      <td>0.04418</td>\n",
              "      <td>-0.011968</td>\n",
              "      <td>0.227830</td>\n",
              "      <td>-0.012040</td>\n",
              "      <td>18.911349</td>\n",
              "    </tr>\n",
              "    <tr>\n",
              "      <th>...</th>\n",
              "      <td>...</td>\n",
              "      <td>...</td>\n",
              "      <td>...</td>\n",
              "      <td>...</td>\n",
              "      <td>...</td>\n",
              "      <td>...</td>\n",
              "    </tr>\n",
              "    <tr>\n",
              "      <th>2025-04-24</th>\n",
              "      <td>159.279999</td>\n",
              "      <td>0.04197</td>\n",
              "      <td>0.025298</td>\n",
              "      <td>0.364105</td>\n",
              "      <td>0.024983</td>\n",
              "      <td>25.957689</td>\n",
              "    </tr>\n",
              "    <tr>\n",
              "      <th>2025-04-25</th>\n",
              "      <td>161.960007</td>\n",
              "      <td>0.04193</td>\n",
              "      <td>0.016826</td>\n",
              "      <td>0.363422</td>\n",
              "      <td>0.016686</td>\n",
              "      <td>26.349301</td>\n",
              "    </tr>\n",
              "    <tr>\n",
              "      <th>2025-04-28</th>\n",
              "      <td>160.610001</td>\n",
              "      <td>0.04193</td>\n",
              "      <td>-0.008335</td>\n",
              "      <td>0.363161</td>\n",
              "      <td>-0.008370</td>\n",
              "      <td>26.113657</td>\n",
              "    </tr>\n",
              "    <tr>\n",
              "      <th>2025-04-29</th>\n",
              "      <td>160.160004</td>\n",
              "      <td>0.04190</td>\n",
              "      <td>-0.002802</td>\n",
              "      <td>0.362153</td>\n",
              "      <td>-0.002806</td>\n",
              "      <td>25.976657</td>\n",
              "    </tr>\n",
              "    <tr>\n",
              "      <th>2025-04-30</th>\n",
              "      <td>158.800003</td>\n",
              "      <td>0.04190</td>\n",
              "      <td>-0.008492</td>\n",
              "      <td>0.362329</td>\n",
              "      <td>-0.008528</td>\n",
              "      <td>25.766751</td>\n",
              "    </tr>\n",
              "  </tbody>\n",
              "</table>\n",
              "<p>125 rows × 6 columns</p>\n",
              "</div>\n",
              "    <div class=\"colab-df-buttons\">\n",
              "\n",
              "  <div class=\"colab-df-container\">\n",
              "    <button class=\"colab-df-convert\" onclick=\"convertToInteractive('df-1765b97d-ea0b-47ed-abc2-b363c1df6b2d')\"\n",
              "            title=\"Convert this dataframe to an interactive table.\"\n",
              "            style=\"display:none;\">\n",
              "\n",
              "  <svg xmlns=\"http://www.w3.org/2000/svg\" height=\"24px\" viewBox=\"0 -960 960 960\">\n",
              "    <path d=\"M120-120v-720h720v720H120Zm60-500h600v-160H180v160Zm220 220h160v-160H400v160Zm0 220h160v-160H400v160ZM180-400h160v-160H180v160Zm440 0h160v-160H620v160ZM180-180h160v-160H180v160Zm440 0h160v-160H620v160Z\"/>\n",
              "  </svg>\n",
              "    </button>\n",
              "\n",
              "  <style>\n",
              "    .colab-df-container {\n",
              "      display:flex;\n",
              "      gap: 12px;\n",
              "    }\n",
              "\n",
              "    .colab-df-convert {\n",
              "      background-color: #E8F0FE;\n",
              "      border: none;\n",
              "      border-radius: 50%;\n",
              "      cursor: pointer;\n",
              "      display: none;\n",
              "      fill: #1967D2;\n",
              "      height: 32px;\n",
              "      padding: 0 0 0 0;\n",
              "      width: 32px;\n",
              "    }\n",
              "\n",
              "    .colab-df-convert:hover {\n",
              "      background-color: #E2EBFA;\n",
              "      box-shadow: 0px 1px 2px rgba(60, 64, 67, 0.3), 0px 1px 3px 1px rgba(60, 64, 67, 0.15);\n",
              "      fill: #174EA6;\n",
              "    }\n",
              "\n",
              "    .colab-df-buttons div {\n",
              "      margin-bottom: 4px;\n",
              "    }\n",
              "\n",
              "    [theme=dark] .colab-df-convert {\n",
              "      background-color: #3B4455;\n",
              "      fill: #D2E3FC;\n",
              "    }\n",
              "\n",
              "    [theme=dark] .colab-df-convert:hover {\n",
              "      background-color: #434B5C;\n",
              "      box-shadow: 0px 1px 3px 1px rgba(0, 0, 0, 0.15);\n",
              "      filter: drop-shadow(0px 1px 2px rgba(0, 0, 0, 0.3));\n",
              "      fill: #FFFFFF;\n",
              "    }\n",
              "  </style>\n",
              "\n",
              "    <script>\n",
              "      const buttonEl =\n",
              "        document.querySelector('#df-1765b97d-ea0b-47ed-abc2-b363c1df6b2d button.colab-df-convert');\n",
              "      buttonEl.style.display =\n",
              "        google.colab.kernel.accessAllowed ? 'block' : 'none';\n",
              "\n",
              "      async function convertToInteractive(key) {\n",
              "        const element = document.querySelector('#df-1765b97d-ea0b-47ed-abc2-b363c1df6b2d');\n",
              "        const dataTable =\n",
              "          await google.colab.kernel.invokeFunction('convertToInteractive',\n",
              "                                                    [key], {});\n",
              "        if (!dataTable) return;\n",
              "\n",
              "        const docLinkHtml = 'Like what you see? Visit the ' +\n",
              "          '<a target=\"_blank\" href=https://colab.research.google.com/notebooks/data_table.ipynb>data table notebook</a>'\n",
              "          + ' to learn more about interactive tables.';\n",
              "        element.innerHTML = '';\n",
              "        dataTable['output_type'] = 'display_data';\n",
              "        await google.colab.output.renderOutput(dataTable, element);\n",
              "        const docLink = document.createElement('div');\n",
              "        docLink.innerHTML = docLinkHtml;\n",
              "        element.appendChild(docLink);\n",
              "      }\n",
              "    </script>\n",
              "  </div>\n",
              "\n",
              "\n",
              "    <div id=\"df-089c3dc7-7a3c-4049-b7ef-ca0964f0be81\">\n",
              "      <button class=\"colab-df-quickchart\" onclick=\"quickchart('df-089c3dc7-7a3c-4049-b7ef-ca0964f0be81')\"\n",
              "                title=\"Suggest charts\"\n",
              "                style=\"display:none;\">\n",
              "\n",
              "<svg xmlns=\"http://www.w3.org/2000/svg\" height=\"24px\"viewBox=\"0 0 24 24\"\n",
              "     width=\"24px\">\n",
              "    <g>\n",
              "        <path d=\"M19 3H5c-1.1 0-2 .9-2 2v14c0 1.1.9 2 2 2h14c1.1 0 2-.9 2-2V5c0-1.1-.9-2-2-2zM9 17H7v-7h2v7zm4 0h-2V7h2v10zm4 0h-2v-4h2v4z\"/>\n",
              "    </g>\n",
              "</svg>\n",
              "      </button>\n",
              "\n",
              "<style>\n",
              "  .colab-df-quickchart {\n",
              "      --bg-color: #E8F0FE;\n",
              "      --fill-color: #1967D2;\n",
              "      --hover-bg-color: #E2EBFA;\n",
              "      --hover-fill-color: #174EA6;\n",
              "      --disabled-fill-color: #AAA;\n",
              "      --disabled-bg-color: #DDD;\n",
              "  }\n",
              "\n",
              "  [theme=dark] .colab-df-quickchart {\n",
              "      --bg-color: #3B4455;\n",
              "      --fill-color: #D2E3FC;\n",
              "      --hover-bg-color: #434B5C;\n",
              "      --hover-fill-color: #FFFFFF;\n",
              "      --disabled-bg-color: #3B4455;\n",
              "      --disabled-fill-color: #666;\n",
              "  }\n",
              "\n",
              "  .colab-df-quickchart {\n",
              "    background-color: var(--bg-color);\n",
              "    border: none;\n",
              "    border-radius: 50%;\n",
              "    cursor: pointer;\n",
              "    display: none;\n",
              "    fill: var(--fill-color);\n",
              "    height: 32px;\n",
              "    padding: 0;\n",
              "    width: 32px;\n",
              "  }\n",
              "\n",
              "  .colab-df-quickchart:hover {\n",
              "    background-color: var(--hover-bg-color);\n",
              "    box-shadow: 0 1px 2px rgba(60, 64, 67, 0.3), 0 1px 3px 1px rgba(60, 64, 67, 0.15);\n",
              "    fill: var(--button-hover-fill-color);\n",
              "  }\n",
              "\n",
              "  .colab-df-quickchart-complete:disabled,\n",
              "  .colab-df-quickchart-complete:disabled:hover {\n",
              "    background-color: var(--disabled-bg-color);\n",
              "    fill: var(--disabled-fill-color);\n",
              "    box-shadow: none;\n",
              "  }\n",
              "\n",
              "  .colab-df-spinner {\n",
              "    border: 2px solid var(--fill-color);\n",
              "    border-color: transparent;\n",
              "    border-bottom-color: var(--fill-color);\n",
              "    animation:\n",
              "      spin 1s steps(1) infinite;\n",
              "  }\n",
              "\n",
              "  @keyframes spin {\n",
              "    0% {\n",
              "      border-color: transparent;\n",
              "      border-bottom-color: var(--fill-color);\n",
              "      border-left-color: var(--fill-color);\n",
              "    }\n",
              "    20% {\n",
              "      border-color: transparent;\n",
              "      border-left-color: var(--fill-color);\n",
              "      border-top-color: var(--fill-color);\n",
              "    }\n",
              "    30% {\n",
              "      border-color: transparent;\n",
              "      border-left-color: var(--fill-color);\n",
              "      border-top-color: var(--fill-color);\n",
              "      border-right-color: var(--fill-color);\n",
              "    }\n",
              "    40% {\n",
              "      border-color: transparent;\n",
              "      border-right-color: var(--fill-color);\n",
              "      border-top-color: var(--fill-color);\n",
              "    }\n",
              "    60% {\n",
              "      border-color: transparent;\n",
              "      border-right-color: var(--fill-color);\n",
              "    }\n",
              "    80% {\n",
              "      border-color: transparent;\n",
              "      border-right-color: var(--fill-color);\n",
              "      border-bottom-color: var(--fill-color);\n",
              "    }\n",
              "    90% {\n",
              "      border-color: transparent;\n",
              "      border-bottom-color: var(--fill-color);\n",
              "    }\n",
              "  }\n",
              "</style>\n",
              "\n",
              "      <script>\n",
              "        async function quickchart(key) {\n",
              "          const quickchartButtonEl =\n",
              "            document.querySelector('#' + key + ' button');\n",
              "          quickchartButtonEl.disabled = true;  // To prevent multiple clicks.\n",
              "          quickchartButtonEl.classList.add('colab-df-spinner');\n",
              "          try {\n",
              "            const charts = await google.colab.kernel.invokeFunction(\n",
              "                'suggestCharts', [key], {});\n",
              "          } catch (error) {\n",
              "            console.error('Error during call to suggestCharts:', error);\n",
              "          }\n",
              "          quickchartButtonEl.classList.remove('colab-df-spinner');\n",
              "          quickchartButtonEl.classList.add('colab-df-quickchart-complete');\n",
              "        }\n",
              "        (() => {\n",
              "          let quickchartButtonEl =\n",
              "            document.querySelector('#df-089c3dc7-7a3c-4049-b7ef-ca0964f0be81 button');\n",
              "          quickchartButtonEl.style.display =\n",
              "            google.colab.kernel.accessAllowed ? 'block' : 'none';\n",
              "        })();\n",
              "      </script>\n",
              "    </div>\n",
              "\n",
              "  <div id=\"id_b585210e-f41e-49a6-8760-fa35f78cbc15\">\n",
              "    <style>\n",
              "      .colab-df-generate {\n",
              "        background-color: #E8F0FE;\n",
              "        border: none;\n",
              "        border-radius: 50%;\n",
              "        cursor: pointer;\n",
              "        display: none;\n",
              "        fill: #1967D2;\n",
              "        height: 32px;\n",
              "        padding: 0 0 0 0;\n",
              "        width: 32px;\n",
              "      }\n",
              "\n",
              "      .colab-df-generate:hover {\n",
              "        background-color: #E2EBFA;\n",
              "        box-shadow: 0px 1px 2px rgba(60, 64, 67, 0.3), 0px 1px 3px 1px rgba(60, 64, 67, 0.15);\n",
              "        fill: #174EA6;\n",
              "      }\n",
              "\n",
              "      [theme=dark] .colab-df-generate {\n",
              "        background-color: #3B4455;\n",
              "        fill: #D2E3FC;\n",
              "      }\n",
              "\n",
              "      [theme=dark] .colab-df-generate:hover {\n",
              "        background-color: #434B5C;\n",
              "        box-shadow: 0px 1px 3px 1px rgba(0, 0, 0, 0.15);\n",
              "        filter: drop-shadow(0px 1px 2px rgba(0, 0, 0, 0.3));\n",
              "        fill: #FFFFFF;\n",
              "      }\n",
              "    </style>\n",
              "    <button class=\"colab-df-generate\" onclick=\"generateWithVariable('data')\"\n",
              "            title=\"Generate code using this dataframe.\"\n",
              "            style=\"display:none;\">\n",
              "\n",
              "  <svg xmlns=\"http://www.w3.org/2000/svg\" height=\"24px\"viewBox=\"0 0 24 24\"\n",
              "       width=\"24px\">\n",
              "    <path d=\"M7,19H8.4L18.45,9,17,7.55,7,17.6ZM5,21V16.75L18.45,3.32a2,2,0,0,1,2.83,0l1.4,1.43a1.91,1.91,0,0,1,.58,1.4,1.91,1.91,0,0,1-.58,1.4L9.25,21ZM18.45,9,17,7.55Zm-12,3A5.31,5.31,0,0,0,4.9,8.1,5.31,5.31,0,0,0,1,6.5,5.31,5.31,0,0,0,4.9,4.9,5.31,5.31,0,0,0,6.5,1,5.31,5.31,0,0,0,8.1,4.9,5.31,5.31,0,0,0,12,6.5,5.46,5.46,0,0,0,6.5,12Z\"/>\n",
              "  </svg>\n",
              "    </button>\n",
              "    <script>\n",
              "      (() => {\n",
              "      const buttonEl =\n",
              "        document.querySelector('#id_b585210e-f41e-49a6-8760-fa35f78cbc15 button.colab-df-generate');\n",
              "      buttonEl.style.display =\n",
              "        google.colab.kernel.accessAllowed ? 'block' : 'none';\n",
              "\n",
              "      buttonEl.onclick = () => {\n",
              "        google.colab.notebook.generateWithVariable('data');\n",
              "      }\n",
              "      })();\n",
              "    </script>\n",
              "  </div>\n",
              "\n",
              "    </div>\n",
              "  </div>\n"
            ],
            "application/vnd.google.colaboratory.intrinsic+json": {
              "type": "dataframe",
              "variable_name": "data",
              "summary": "{\n  \"name\": \"data\",\n  \"rows\": 125,\n  \"fields\": [\n    {\n      \"column\": \"Date\",\n      \"properties\": {\n        \"dtype\": \"date\",\n        \"min\": \"2024-10-29 00:00:00\",\n        \"max\": \"2025-04-30 00:00:00\",\n        \"num_unique_values\": 125,\n        \"samples\": [\n          \"2024-11-22 00:00:00\",\n          \"2024-12-30 00:00:00\",\n          \"2024-12-19 00:00:00\"\n        ],\n        \"semantic_type\": \"\",\n        \"description\": \"\"\n      }\n    },\n    {\n      \"column\": \"GOOGL\",\n      \"properties\": {\n        \"dtype\": \"number\",\n        \"std\": 15.118703424934827,\n        \"min\": 144.6999969482422,\n        \"max\": 206.14259338378906,\n        \"num_unique_values\": 125,\n        \"samples\": [\n          164.38206481933594,\n          191.02000427246094,\n          188.2931365966797\n        ],\n        \"semantic_type\": \"\",\n        \"description\": \"\"\n      }\n    },\n    {\n      \"column\": \"IRX\",\n      \"properties\": {\n        \"dtype\": \"number\",\n        \"std\": 0.0008643362230341604,\n        \"min\": 0.041500000953674315,\n        \"max\": 0.044800000190734865,\n        \"num_unique_values\": 52,\n        \"samples\": [\n          0.043730001449584964,\n          0.04203000068664551,\n          0.04210000038146973\n        ],\n        \"semantic_type\": \"\",\n        \"description\": \"\"\n      }\n    },\n    {\n      \"column\": \"ret\",\n      \"properties\": {\n        \"dtype\": \"number\",\n        \"std\": 0.022775589931348015,\n        \"min\": -0.07292371789552754,\n        \"max\": 0.09682107851485466,\n        \"num_unique_values\": 125,\n        \"samples\": [\n          -0.017121141441057808,\n          -0.007885443447620433,\n          0.0005838911557476401\n        ],\n        \"semantic_type\": \"\",\n        \"description\": \"\"\n      }\n    },\n    {\n      \"column\": \"Vol. GOOGL\",\n      \"properties\": {\n        \"dtype\": \"number\",\n        \"std\": 0.03577045795955308,\n        \"min\": 0.22424093419215893,\n        \"max\": 0.3641050000638439,\n        \"num_unique_values\": 125,\n        \"samples\": [\n          0.25011594232516304,\n          0.28206858081881114,\n          0.28126265720633226\n        ],\n        \"semantic_type\": \"\",\n        \"description\": \"\"\n      }\n    },\n    {\n      \"column\": \"log_ret\",\n      \"properties\": {\n        \"dtype\": \"number\",\n        \"std\": 0.022718687917930233,\n        \"min\": -0.07571942758451566,\n        \"max\": 0.09241606727500429,\n        \"num_unique_values\": 125,\n        \"samples\": [\n          -0.017269402890099705,\n          -0.007916697969068132,\n          0.0005837207576329106\n        ],\n        \"semantic_type\": \"\",\n        \"description\": \"\"\n      }\n    },\n    {\n      \"column\": \"calls_Black_Scholes\",\n      \"properties\": {\n        \"dtype\": \"number\",\n        \"std\": 2.1143329678115097,\n        \"min\": 18.78304423774439,\n        \"max\": 26.34930079341713,\n        \"num_unique_values\": 125,\n        \"samples\": [\n          19.80357945681922,\n          25.126038401112353,\n          24.743841010817377\n        ],\n        \"semantic_type\": \"\",\n        \"description\": \"\"\n      }\n    }\n  ]\n}"
            }
          },
          "metadata": {},
          "execution_count": 53
        }
      ]
    },
    {
      "cell_type": "code",
      "source": [
        "data.calls_Black_Scholes.plot()"
      ],
      "metadata": {
        "id": "on9ZzdUgXSmO",
        "colab": {
          "base_uri": "https://localhost:8080/",
          "height": 450
        },
        "outputId": "cbb7e2a4-61dc-4bea-9134-4dc4877bdced"
      },
      "execution_count": null,
      "outputs": [
        {
          "output_type": "execute_result",
          "data": {
            "text/plain": [
              "<Axes: xlabel='Date'>"
            ]
          },
          "metadata": {},
          "execution_count": 54
        },
        {
          "output_type": "display_data",
          "data": {
            "text/plain": [
              "<Figure size 640x480 with 1 Axes>"
            ],
            "image/png": "[encoded data removed]"
          },
          "metadata": {}
        }
      ]
    },
    {
      "cell_type": "markdown",
      "source": [
        "# Ejemplo de comparación de valuaciones:\n",
        "\n",
        "Este código no se incluye en la clase, pues Monte Carlo requiere si propia clase, pero veamos que diferencia da valuar con distintas técnicas.\n",
        "\n",
        "La columna que se llama \"precio_call\" está valuada con MonteCarlo mientras que la llamada \"calls_Black_Scholes\" se valúa con dicha técnica.\n",
        "\n",
        "![image.png](data:image/png;base64,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)"
      ],
      "metadata": {
        "id": "PTq66czXZ-st"
      }
    },
    {
      "cell_type": "markdown",
      "source": [
        "Para mas detalles, se puede revisar el siguiente repositorio:\n",
        "\n",
        "https://github.com/MaxMitre/Aplicaciones-Financieras/tree/main/Semana6"
      ],
      "metadata": {
        "id": "ORrzGa11aVnH"
      }
    }
  ]
}